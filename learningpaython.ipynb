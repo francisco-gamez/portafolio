{
  "nbformat": 4,
  "nbformat_minor": 0,
  "metadata": {
    "colab": {
      "provenance": [],
      "authorship_tag": "ABX9TyM3VSNmPqXLH4A3ga0kRL6u",
      "include_colab_link": true
    },
    "kernelspec": {
      "name": "python3",
      "display_name": "Python 3"
    },
    "language_info": {
      "name": "python"
    }
  },
  "cells": [
    {
      "cell_type": "markdown",
      "metadata": {
        "id": "view-in-github",
        "colab_type": "text"
      },
      "source": [
        "<a href=\"https://colab.research.google.com/github/francisco-gamez/portafolio/blob/main/learningpaython.ipynb\" target=\"_parent\"><img src=\"https://colab.research.google.com/assets/colab-badge.svg\" alt=\"Open In Colab\"/></a>"
      ]
    },
    {
      "cell_type": "code",
      "source": [],
      "metadata": {
        "id": "krHG4ZNpu2zU"
      },
      "execution_count": null,
      "outputs": []
    },
    {
      "cell_type": "code",
      "execution_count": null,
      "metadata": {
        "colab": {
          "base_uri": "https://localhost:8080/"
        },
        "id": "wt8XlAobuT8m",
        "outputId": "180743ff-d7c9-468b-ba63-4efe96794576"
      },
      "outputs": [
        {
          "output_type": "stream",
          "name": "stdout",
          "text": [
            "Ingresa tu nombre: Francisco\n",
            "Hola, Francisco\n"
          ]
        }
      ],
      "source": [
        "nombre_usuario = input('Ingresa tu nombre: ')\n",
        "print('Hola,', nombre_usuario)"
      ]
    },
    {
      "cell_type": "code",
      "source": [
        "nombre_usuario = input('Ingresa tu nombre: ')\n",
        "edad_usuario = input('Ingresa tu edad: ')\n",
        "print(f'Hola {nombre_usuario}, tienes {edad_usuario} años')"
      ],
      "metadata": {
        "colab": {
          "base_uri": "https://localhost:8080/"
        },
        "id": "qqEpZ7iPuzQH",
        "outputId": "b97725a4-cbcf-43c6-ddba-db010ce59fa4"
      },
      "execution_count": null,
      "outputs": [
        {
          "output_type": "stream",
          "name": "stdout",
          "text": [
            "Ingresa tu nombre: Francisco\n",
            "Ingresa tu edad: 33\n",
            "Hola Francisco, tienes 33 años\n"
          ]
        }
      ]
    },
    {
      "cell_type": "code",
      "source": [
        "nombre_usuario = input('Ingresa tu nombre: ')\n",
        "edad_usuario = int(input('Ingresa tu edad: '))\n",
        "altura_usuario = float(input('Ingresa tu altura: '))\n",
        "print(f'Hola {nombre_usuario}, tienes {edad_usuario} años y mides {altura_usuario} metros')"
      ],
      "metadata": {
        "colab": {
          "base_uri": "https://localhost:8080/"
        },
        "id": "f7ZOKCMLwzio",
        "outputId": "64e9b030-880b-4790-e300-a6fd7796dbdc"
      },
      "execution_count": null,
      "outputs": [
        {
          "output_type": "stream",
          "name": "stdout",
          "text": [
            "Ingresa tu nombre: Francisco\n",
            "Ingresa tu edad: 33\n",
            "Ingresa tu altura: 1.8\n",
            "Hola Francisco, tienes 33 años y mides 1.8metros\n"
          ]
        }
      ]
    },
    {
      "cell_type": "code",
      "source": [
        "valor1 = float(input('Ingresa valor: '))\n",
        "valor2 = float(input('Ingresa valor: '))\n",
        "print (valor1+valor2)\n"
      ],
      "metadata": {
        "colab": {
          "base_uri": "https://localhost:8080/"
        },
        "id": "_7dSZj9RxniH",
        "outputId": "753ce166-f4b9-4834-8b62-6546cf2dea71"
      },
      "execution_count": null,
      "outputs": [
        {
          "output_type": "stream",
          "name": "stdout",
          "text": [
            "Ingresa valor: 1\n",
            "Ingresa valor: 2\n",
            "3.0\n"
          ]
        }
      ]
    },
    {
      "cell_type": "code",
      "source": [
        "valor1 = float(input('Ingresa valor: '))\n",
        "valor2 = float(input('Ingresa valor: '))\n",
        "valor3 = float(input('Ingresa valor: '))\n",
        "print (valor1+valor2+valor3)\n"
      ],
      "metadata": {
        "colab": {
          "base_uri": "https://localhost:8080/"
        },
        "id": "CaRl1MVwyOzb",
        "outputId": "63ea64c2-1ffb-41e1-9e35-087dd8fbc0b9"
      },
      "execution_count": null,
      "outputs": [
        {
          "output_type": "stream",
          "name": "stdout",
          "text": [
            "Ingresa valor: 1\n",
            "Ingresa valor: 2\n",
            "Ingresa valor: 3\n",
            "6.0\n"
          ]
        }
      ]
    },
    {
      "cell_type": "code",
      "source": [
        "valor1 = float(input('Ingresa valor: '))\n",
        "valor2 = float(input('Ingresa valor: '))\n",
        "print (valor1-valor2)\n"
      ],
      "metadata": {
        "colab": {
          "base_uri": "https://localhost:8080/"
        },
        "id": "0wMyasAsyY3M",
        "outputId": "6f4bb8d6-4fc9-437e-89e2-91751cb15cf1"
      },
      "execution_count": null,
      "outputs": [
        {
          "output_type": "stream",
          "name": "stdout",
          "text": [
            "Ingresa valor: 3\n",
            "Ingresa valor: 2\n",
            "1.0\n"
          ]
        }
      ]
    },
    {
      "cell_type": "code",
      "source": [
        "valor1 = float(input('Ingresa valor: '))\n",
        "valor2 = float(input('Ingresa valor: '))\n",
        "print (valor1*valor2)\n"
      ],
      "metadata": {
        "colab": {
          "base_uri": "https://localhost:8080/"
        },
        "id": "24pweSRgyk3f",
        "outputId": "ebe49aa9-cd3c-4843-d786-5769f1c1cdd6"
      },
      "execution_count": null,
      "outputs": [
        {
          "output_type": "stream",
          "name": "stdout",
          "text": [
            "Ingresa valor: 3\n",
            "Ingresa valor: 2\n",
            "6.0\n"
          ]
        }
      ]
    },
    {
      "cell_type": "code",
      "source": [
        "valor1 = float(input('Ingresa valor: '))\n",
        "valor2 = float(input('Ingresa valor: '))\n",
        "print(valor1/valor2)"
      ],
      "metadata": {
        "colab": {
          "base_uri": "https://localhost:8080/"
        },
        "id": "wLauxRx1yr1z",
        "outputId": "4b5eca8f-ecef-44b8-f0b1-b1df973b00f8"
      },
      "execution_count": null,
      "outputs": [
        {
          "output_type": "stream",
          "name": "stdout",
          "text": [
            "Ingresa valor: 4\n",
            "Ingresa valor: 2\n",
            "2.0\n"
          ]
        }
      ]
    },
    {
      "cell_type": "code",
      "source": [
        "valor1 = float(input('Ingresa valor: '))\n",
        "valor2 = float(input('Ingresa valor: '))\n",
        "print(valor1 ** valor2)"
      ],
      "metadata": {
        "colab": {
          "base_uri": "https://localhost:8080/"
        },
        "id": "w6sC4Wtv2SYf",
        "outputId": "9fe670e5-c1c0-4340-f66a-c76338c6ba30"
      },
      "execution_count": null,
      "outputs": [
        {
          "output_type": "stream",
          "name": "stdout",
          "text": [
            "Ingresa valor: 2\n",
            "Ingresa valor: 3\n",
            "8.0\n"
          ]
        }
      ]
    },
    {
      "cell_type": "code",
      "source": [
        "valor1 = float(input('Ingresa valor: '))\n",
        "valor2 = float(input('Ingresa valor: '))\n",
        "print(valor1 % valor2)"
      ],
      "metadata": {
        "colab": {
          "base_uri": "https://localhost:8080/"
        },
        "id": "_ko-ocL83cxG",
        "outputId": "867c2a83-6235-4c52-ef8e-197b1649f6ba"
      },
      "execution_count": null,
      "outputs": [
        {
          "output_type": "stream",
          "name": "stdout",
          "text": [
            "Ingresa valor: 20\n",
            "Ingresa valor: 3\n",
            "2.0\n"
          ]
        }
      ]
    },
    {
      "cell_type": "code",
      "source": [
        "valor1 = float(input('Ingresa valor: '))\n",
        "valor2 = float(input('Ingresa valor: '))\n",
        "print(valor1 // valor2)"
      ],
      "metadata": {
        "colab": {
          "base_uri": "https://localhost:8080/"
        },
        "id": "MG9qhhov31gz",
        "outputId": "16360381-506b-4364-8a14-5fc0de8e864e"
      },
      "execution_count": null,
      "outputs": [
        {
          "output_type": "stream",
          "name": "stdout",
          "text": [
            "Ingresa valor: 20\n",
            "Ingresa valor: 3\n",
            "6.0\n"
          ]
        }
      ]
    },
    {
      "cell_type": "code",
      "source": [
        "valor1 = float(input('Ingresa valor: '))\n",
        "valor2 = float(input('Ingresa valor: '))\n",
        "valor3 = float(input('Ingresa valor: '))\n",
        "print ((valor1+valor2+valor3)/3)"
      ],
      "metadata": {
        "colab": {
          "base_uri": "https://localhost:8080/"
        },
        "id": "taMOufVH4JNV",
        "outputId": "9c465951-7958-4089-d255-865cbc78983d"
      },
      "execution_count": null,
      "outputs": [
        {
          "output_type": "stream",
          "name": "stdout",
          "text": [
            "Ingresa valor: 9.5\n",
            "Ingresa valor: 7.7\n",
            "Ingresa valor: 8.3\n",
            "8.5\n"
          ]
        }
      ]
    },
    {
      "cell_type": "code",
      "source": [
        "print((5*1+12*2+20*3+15*4)/(1+2+3+4))"
      ],
      "metadata": {
        "colab": {
          "base_uri": "https://localhost:8080/"
        },
        "id": "cGFEXEkE4aY3",
        "outputId": "49dff06d-af9b-42f1-bcb1-1db1ad12a528"
      },
      "execution_count": null,
      "outputs": [
        {
          "output_type": "stream",
          "name": "stdout",
          "text": [
            "14.9\n"
          ]
        }
      ]
    },
    {
      "cell_type": "code",
      "source": [
        "frase = 'Yo no se quien pierde mas aqui en esta despedida'\n",
        "frase"
      ],
      "metadata": {
        "colab": {
          "base_uri": "https://localhost:8080/",
          "height": 36
        },
        "id": "rlki3RfX5Y3j",
        "outputId": "fd813825-f85b-4cf6-e830-858e5728f397"
      },
      "execution_count": null,
      "outputs": [
        {
          "output_type": "execute_result",
          "data": {
            "text/plain": [
              "'Yo no se quien pierde mas aqui en esta despedida'"
            ],
            "application/vnd.google.colaboratory.intrinsic+json": {
              "type": "string"
            }
          },
          "metadata": {},
          "execution_count": 9
        }
      ]
    },
    {
      "cell_type": "code",
      "source": [
        "frase = input('Ingresa una frase: ')\n",
        "print(frase)"
      ],
      "metadata": {
        "colab": {
          "base_uri": "https://localhost:8080/"
        },
        "id": "go13Ayao57Zx",
        "outputId": "12950569-1cff-49d6-dedf-1f56737cbb99"
      },
      "execution_count": null,
      "outputs": [
        {
          "output_type": "stream",
          "name": "stdout",
          "text": [
            "Ingresa una frase: Al infinito y mas allá\n",
            "Al infinito y mas allá\n"
          ]
        }
      ]
    },
    {
      "cell_type": "code",
      "source": [
        "frase = input('Ingresa una frase: ')\n",
        "frase.upper()"
      ],
      "metadata": {
        "colab": {
          "base_uri": "https://localhost:8080/",
          "height": 54
        },
        "id": "BOR4vII66M9U",
        "outputId": "ef0deb98-3adf-411a-944f-4f907f71911c"
      },
      "execution_count": null,
      "outputs": [
        {
          "name": "stdout",
          "output_type": "stream",
          "text": [
            "Ingresa una frase: hola mundo\n"
          ]
        },
        {
          "output_type": "execute_result",
          "data": {
            "text/plain": [
              "'HOLA MUNDO'"
            ],
            "application/vnd.google.colaboratory.intrinsic+json": {
              "type": "string"
            }
          },
          "metadata": {},
          "execution_count": 15
        }
      ]
    },
    {
      "cell_type": "code",
      "source": [
        "frase = input('Ingresa una frase: ')\n",
        "frase.lower()"
      ],
      "metadata": {
        "colab": {
          "base_uri": "https://localhost:8080/",
          "height": 54
        },
        "id": "9OvCHhQA6dal",
        "outputId": "858a35b4-3448-4cb7-f07f-021081324696"
      },
      "execution_count": null,
      "outputs": [
        {
          "name": "stdout",
          "output_type": "stream",
          "text": [
            "Ingresa una frase: HOLA MUNDO\n"
          ]
        },
        {
          "output_type": "execute_result",
          "data": {
            "text/plain": [
              "'hola mundo'"
            ],
            "application/vnd.google.colaboratory.intrinsic+json": {
              "type": "string"
            }
          },
          "metadata": {},
          "execution_count": 16
        }
      ]
    },
    {
      "cell_type": "code",
      "source": [
        "frase = '  Yo no se quien pierde mas aqui en esta despedida  '\n",
        "frase.strip()"
      ],
      "metadata": {
        "colab": {
          "base_uri": "https://localhost:8080/",
          "height": 36
        },
        "id": "NGAu_paa7gIi",
        "outputId": "4bd3713c-b13c-40b0-a0ca-4060068ed263"
      },
      "execution_count": null,
      "outputs": [
        {
          "output_type": "execute_result",
          "data": {
            "text/plain": [
              "'Yo no se quien pierde mas aqui en esta despedida'"
            ],
            "application/vnd.google.colaboratory.intrinsic+json": {
              "type": "string"
            }
          },
          "metadata": {},
          "execution_count": 18
        }
      ]
    },
    {
      "cell_type": "code",
      "source": [
        "frase = input('Ingresa una frase: ')\n",
        "frase.strip()"
      ],
      "metadata": {
        "colab": {
          "base_uri": "https://localhost:8080/",
          "height": 54
        },
        "id": "jKZB7wwa7zis",
        "outputId": "634f50b0-b8bb-41ea-807b-b4742f72d4ce"
      },
      "execution_count": null,
      "outputs": [
        {
          "name": "stdout",
          "output_type": "stream",
          "text": [
            "Ingresa una frase:   Yo no se quien pierde mas aqui en esta despedida   \n"
          ]
        },
        {
          "output_type": "execute_result",
          "data": {
            "text/plain": [
              "'Yo no se quien pierde mas aqui en esta despedida'"
            ],
            "application/vnd.google.colaboratory.intrinsic+json": {
              "type": "string"
            }
          },
          "metadata": {},
          "execution_count": 19
        }
      ]
    },
    {
      "cell_type": "code",
      "source": [
        "frase = input('Ingresa una frase: ')\n",
        "print(frase.strip().lower())"
      ],
      "metadata": {
        "colab": {
          "base_uri": "https://localhost:8080/"
        },
        "id": "4nEQ07-07-MX",
        "outputId": "54f6fcb9-8781-4604-f383-17699f93c2c7"
      },
      "execution_count": null,
      "outputs": [
        {
          "output_type": "stream",
          "name": "stdout",
          "text": [
            "Ingresa una frase:       Yo no se quien pierde mas aqui en esta despedida  \n",
            "yo no se quien pierde mas aqui en esta despedida\n"
          ]
        }
      ]
    },
    {
      "cell_type": "code",
      "source": [
        "frase = input('Ingresa una frase: ')\n",
        "print(frase.replace('e','f'))"
      ],
      "metadata": {
        "colab": {
          "base_uri": "https://localhost:8080/"
        },
        "id": "I9n4yuv-8Sto",
        "outputId": "99db234c-9719-4917-9c59-bc371d1aa6a5"
      },
      "execution_count": null,
      "outputs": [
        {
          "output_type": "stream",
          "name": "stdout",
          "text": [
            "Ingresa una frase: Yo no se quien pierde mas aqui en esta despedida  \n",
            "Yo no sf quifn pifrdf mas aqui fn fsta dfspfdida  \n"
          ]
        }
      ]
    },
    {
      "cell_type": "code",
      "source": [
        "frase = input('Ingresa una frase: ')\n",
        "print(frase.replace('a',chr(64)))"
      ],
      "metadata": {
        "colab": {
          "base_uri": "https://localhost:8080/"
        },
        "id": "NiSfzQzq8jbb",
        "outputId": "e4aba322-dc2d-4091-ca3b-60b68dde9c31"
      },
      "execution_count": null,
      "outputs": [
        {
          "output_type": "stream",
          "name": "stdout",
          "text": [
            "Ingresa una frase: Yo no se quien pierde mas aqui en esta despedida\n",
            "Yo no se quien pierde m@s @qui en est@ despedid@\n"
          ]
        }
      ]
    },
    {
      "cell_type": "code",
      "source": [
        "frase = input('Ingresa una frase: ')\n",
        "print(frase.replace('s',chr(36)))"
      ],
      "metadata": {
        "colab": {
          "base_uri": "https://localhost:8080/"
        },
        "id": "Lg9EYKWi-PXK",
        "outputId": "0b8b4fcd-ed28-4688-eb65-a1e9cf616a19"
      },
      "execution_count": null,
      "outputs": [
        {
          "output_type": "stream",
          "name": "stdout",
          "text": [
            "Ingresa una frase: Yo no se quien pierde mas aqui en esta despedida\n",
            "Yo no $e quien pierde ma$ aqui en e$ta de$pedida\n"
          ]
        }
      ]
    },
    {
      "cell_type": "code",
      "source": [
        "edad_maria = int(input('Ingrese la edad de María: '))\n",
        "edad_beatriz = int(input('Ingrese la edad de Beatriz: '))\n",
        "\n",
        "if edad_maria > edad_beatriz:\n",
        "  print('María es mayor que Beatriz.')"
      ],
      "metadata": {
        "colab": {
          "base_uri": "https://localhost:8080/"
        },
        "id": "Edlhlrcc_Fkk",
        "outputId": "1bb8b20b-a37f-42c8-9581-a3603e4c2c32"
      },
      "execution_count": null,
      "outputs": [
        {
          "output_type": "stream",
          "name": "stdout",
          "text": [
            "Ingrese la edad de María: 32\n",
            "Ingrese la edad de Beatriz: 20\n",
            "María es mayor que Beatriz.\n"
          ]
        }
      ]
    },
    {
      "cell_type": "markdown",
      "source": [
        "# Entrenando la programación"
      ],
      "metadata": {
        "id": "6Ly7EW9RukzT"
      }
    },
    {
      "cell_type": "markdown",
      "source": [
        "1 - Escribe un programa que pida a la persona usuaria que proporcione dos números y muestre el número más grande."
      ],
      "metadata": {
        "id": "quVjRfBoujFn"
      }
    },
    {
      "cell_type": "code",
      "source": [
        "numero1 = input('Ingresa un número: ')\n",
        "numero2 = input('Ingresa un número: ')\n",
        "if numero1 > numero1:\n",
        "  print(f'El número {numero1} es mayor al número {numero2}')\n",
        "else:\n",
        "  print(f'El número {numero2} es mayor al número {numero1}')"
      ],
      "metadata": {
        "colab": {
          "base_uri": "https://localhost:8080/"
        },
        "id": "nOiyzVmXDC-k",
        "outputId": "9ef1b66d-00c3-485c-c419-3f10120e23cb"
      },
      "execution_count": null,
      "outputs": [
        {
          "output_type": "stream",
          "name": "stdout",
          "text": [
            "Ingresa un número: 5\n",
            "Ingresa un número: 6\n",
            "El número 6 es mayor al número 5\n"
          ]
        }
      ]
    },
    {
      "cell_type": "markdown",
      "source": [
        "2 - Escribe un programa que solicite el porcentaje de crecimiento de producción de una empresa e informe si hubo un crecimiento (porcentaje positivo) o una disminución (porcentaje negativo)."
      ],
      "metadata": {
        "id": "I2rmWYWwufwr"
      }
    },
    {
      "cell_type": "code",
      "source": [
        "porcentaje = float(input('Ingresa el porsentaje de crecimiento: '))\n",
        "if porcentaje >= 0:\n",
        "  print ('El crecimiento fue positivo')\n",
        "else:\n",
        "  print ('El crecimiento fue negativo')\n"
      ],
      "metadata": {
        "colab": {
          "base_uri": "https://localhost:8080/"
        },
        "id": "k6g6CcOJ1l_b",
        "outputId": "7d76e01b-076c-46e5-83c4-2a53827a1cb2"
      },
      "execution_count": null,
      "outputs": [
        {
          "output_type": "stream",
          "name": "stdout",
          "text": [
            "Ingresa el porsentaje de crecimiento: -1\n",
            "El crecimiento fue negativo\n"
          ]
        }
      ]
    },
    {
      "cell_type": "markdown",
      "source": [
        "3 - Escribe un programa que determine si una letra proporcionada por la persona usuaria es una vocal o una consonante."
      ],
      "metadata": {
        "id": "iuFTW9xEuaR0"
      }
    },
    {
      "cell_type": "code",
      "source": [
        "abecedario = 'a,e,i,o,u'\n",
        "\n",
        "letra = input('Ingresa una letra: ').lower()\n",
        "\n",
        "if letra in abecedario:\n",
        "  print (f'la letra {letra} es una vocal')\n",
        "else:\n",
        "  print (f'La letra {letra} es una consonante')\n",
        "\n",
        "\n"
      ],
      "metadata": {
        "colab": {
          "base_uri": "https://localhost:8080/"
        },
        "id": "yEswnCNs2u0c",
        "outputId": "1efa1f11-3197-48d0-9c76-85b9e5ee1846"
      },
      "execution_count": null,
      "outputs": [
        {
          "output_type": "stream",
          "name": "stdout",
          "text": [
            "Ingresa una letra: A\n",
            "la letra a es una vocal\n"
          ]
        }
      ]
    },
    {
      "cell_type": "markdown",
      "source": [
        "4 - Escribe un programa que lea valores promedio de precios de un modelo de automóvil durante 3 años consecutivos y muestre el valor más alto y más bajo entre esos tres años."
      ],
      "metadata": {
        "id": "m0Kv-jeruUW1"
      }
    },
    {
      "cell_type": "code",
      "source": [
        "promedio1 = float(input('Ingresa el valor promedio de 2022: '))\n",
        "promedio2 = float(input('Ingresa el valor promedio de 2023: '))\n",
        "promedio3 = float(input('Ingresa el valor promedio de 2024: '))\n",
        "\n",
        "if promedio1 > promedio2 and promedio1 > promedio3:\n",
        "  print(f'2022 es el promedio mayor con {promedio1}')\n",
        "\n",
        "elif promedio2 > promedio3:\n",
        "  print(f'2023 es el promedio mayor con {promedio2}')\n",
        "\n",
        "else:\n",
        "  print(f'2024 es el promedio mayor con {promedio3}')\n",
        "\n",
        "if promedio1 < promedio2 and promedio1 < promedio3:\n",
        "  print(f'2022 es el promedio menor con {promedio1}')\n",
        "\n",
        "elif promedio2 < promedio3:\n",
        "  print(f'2023 es el promedio menor con {promedio2}')\n",
        "\n",
        "else:\n",
        "  print(f'2024 es el promedio menor con {promedio3}')\n"
      ],
      "metadata": {
        "colab": {
          "base_uri": "https://localhost:8080/"
        },
        "id": "IK2vyfCG4Gwv",
        "outputId": "cb9d28b5-50e3-4044-94ab-9c6060f0c725"
      },
      "execution_count": null,
      "outputs": [
        {
          "output_type": "stream",
          "name": "stdout",
          "text": [
            "Ingresa el valor promedio de 2022: 2\n",
            "Ingresa el valor promedio de 2023: 3\n",
            "Ingresa el valor promedio de 2024: 1\n",
            "2023 es el promedio mayor con 3.0\n",
            "2024 es el promedio menor con 1.0\n"
          ]
        }
      ]
    },
    {
      "cell_type": "markdown",
      "source": [
        "5 - Escribe un programa que pregunte sobre el precio de tres productos e indique cuál es el producto más barato para comprar."
      ],
      "metadata": {
        "id": "q8pQMJTxtuyE"
      }
    },
    {
      "cell_type": "code",
      "source": [
        "ProductoA = float(input('Ingresa el valor del producto A: '))\n",
        "ProductoB = float(input('Ingresa el valor del producto B: '))\n",
        "ProductoC = float(input('Ingresa el valor del producto C: '))\n",
        "\n",
        "z = ProductoA\n",
        "if ProductoB < z:\n",
        "  z = ProductoB\n",
        "\n",
        "if ProductoC < z:\n",
        "  z = ProductoC\n",
        "\n",
        "print (z)"
      ],
      "metadata": {
        "colab": {
          "base_uri": "https://localhost:8080/"
        },
        "id": "k0n5_vYk88ZM",
        "outputId": "1aa21144-bb60-4b6e-fb22-622137e52968"
      },
      "execution_count": null,
      "outputs": [
        {
          "output_type": "stream",
          "name": "stdout",
          "text": [
            "Ingresa el valor del producto A: 2\n",
            "Ingresa el valor del producto B: 1\n",
            "Ingresa el valor del producto C: 3\n",
            "1.0\n"
          ]
        }
      ]
    },
    {
      "cell_type": "markdown",
      "source": [
        "6 - Escribe un programa que lea tres números y los muestre en orden descendente."
      ],
      "metadata": {
        "id": "ivyeZk_dtqD8"
      }
    },
    {
      "cell_type": "code",
      "source": [
        "A = float(input('Ingresa el valor del producto A: '))\n",
        "B = float(input('Ingresa el valor del producto B: '))\n",
        "C = float(input('Ingresa el valor del producto C: '))\n",
        "\n",
        "if A >= B and A >= C:\n",
        "  if B >= C:\n",
        "    print (A, B, C)\n",
        "  else:\n",
        "    print (A,C,B)\n",
        "elif B >= A and B >= C:\n",
        "  if A >= C:\n",
        "    print(B,A,C)\n",
        "  else:\n",
        "    print(B,C,A)\n",
        "elif C >= A and C >= B:\n",
        "  if A >= B:\n",
        "    print (C,A,B)\n",
        "  else:\n",
        "    print (C,B,A)\n",
        "\n",
        "\n"
      ],
      "metadata": {
        "colab": {
          "base_uri": "https://localhost:8080/"
        },
        "id": "Z_Z4cXj9E5ZY",
        "outputId": "a58a418e-27e4-4694-cbec-a7bc31b88530"
      },
      "execution_count": null,
      "outputs": [
        {
          "output_type": "stream",
          "name": "stdout",
          "text": [
            "Ingresa el valor del producto A: 1\n",
            "Ingresa el valor del producto B: 2\n",
            "Ingresa el valor del producto C: 3\n",
            "3.0 2.0 1.0\n"
          ]
        }
      ]
    },
    {
      "cell_type": "markdown",
      "source": [
        "7 -Escribe un programa que pregunte en qué turno estudia la persona usuaria (\"mañana\", \"tarde\" o \"noche\") y muestre el mensaje \"¡Buenos Días!\", \"¡Buenas Tardes!\", \"¡Buenas Noches!\" o \"Valor Inválido!\", según el caso.\n",
        "\n"
      ],
      "metadata": {
        "id": "KjvdxTYXtewt"
      }
    },
    {
      "cell_type": "code",
      "source": [
        "from typing import no_type_check\n",
        "turno = input('¿En qué turno estudias, mañana, tarde o noche? ').lower().strip()\n",
        "\n",
        "if turno == 'mañana':\n",
        "  print('¡Buenos Días!')\n",
        "elif turno == 'tarde':\n",
        "  print('¡Buenas Tardes!')\n",
        "elif turno == 'noche':\n",
        "  print('Buenas Noches')\n",
        "else:\n",
        "  print ('no ingresaste mañana, tarde o noche')\n"
      ],
      "metadata": {
        "colab": {
          "base_uri": "https://localhost:8080/"
        },
        "id": "745gjZIyn_XR",
        "outputId": "b496051c-d087-41da-a0ad-0910c9152a9a"
      },
      "execution_count": null,
      "outputs": [
        {
          "output_type": "stream",
          "name": "stdout",
          "text": [
            "¿En qué turno estudias, mañana, tarde o noche? noche\n",
            "Buenas Noches\n"
          ]
        }
      ]
    },
    {
      "cell_type": "markdown",
      "source": [
        "8 - Escribe un programa que solicite un número entero a la persona usuaria y determine si es par o impar. Pista: Puedes usar el operador módulo (%)."
      ],
      "metadata": {
        "id": "HXSuOFKavROX"
      }
    },
    {
      "cell_type": "code",
      "source": [
        "numx = int(input ('Ingresa un número entero '))\n",
        "\n",
        "if numx % 2 == 0:\n",
        "  print('El número es par')\n",
        "else:\n",
        "  print('El número es impar')"
      ],
      "metadata": {
        "colab": {
          "base_uri": "https://localhost:8080/"
        },
        "id": "g7l6mF_wvTZ9",
        "outputId": "9837b480-2089-428d-e8ed-184c2b75996e"
      },
      "execution_count": null,
      "outputs": [
        {
          "output_type": "stream",
          "name": "stdout",
          "text": [
            "Ingresa un número entero 5\n",
            "El número es impar\n"
          ]
        }
      ]
    },
    {
      "cell_type": "markdown",
      "source": [
        "9 - Escribe un programa que pida un número a la persona usuaria y le informe si es entero o decimal."
      ],
      "metadata": {
        "id": "JInEgy6svUW7"
      }
    },
    {
      "cell_type": "code",
      "source": [
        "numw = float(input ('Ingresa un número '))\n",
        "\n",
        "if numw  % 1 == 0:\n",
        "  print('El número es entero')\n",
        "else:\n",
        "  print('El número es decimal')"
      ],
      "metadata": {
        "colab": {
          "base_uri": "https://localhost:8080/"
        },
        "id": "zFrBatAXvW63",
        "outputId": "1dbcda5d-7a2d-4060-f13f-e4a42e570544"
      },
      "execution_count": null,
      "outputs": [
        {
          "output_type": "stream",
          "name": "stdout",
          "text": [
            "Ingresa un número 1\n",
            "El número es entero\n"
          ]
        }
      ]
    },
    {
      "cell_type": "markdown",
      "source": [
        "## Momento de los proyectos\n",
        "\n"
      ],
      "metadata": {
        "id": "0fW1HAlgSGGK"
      }
    },
    {
      "cell_type": "markdown",
      "source": [
        "10 - Un programa debe ser escrito para leer dos números y luego preguntar a la persona usuaria qué operación desea realizar. El resultado de la operación debe incluir información sobre el número, si es par o impar, positivo o negativo, e entero o decimal."
      ],
      "metadata": {
        "id": "MMcuymWhSPb5"
      }
    },
    {
      "cell_type": "code",
      "source": [
        "a = float(input('Ingresa un número '))\n",
        "b = float(input('Ingresa otro un número '))\n",
        "operacion = str(input('¿Qué operación deseas realizar (sum, rest, mult, div, pot) ')).lower().strip()\n",
        "\n",
        "if operacion == 'mult':\n",
        "  result = a * b\n",
        "elif operacion == 'div':\n",
        "  result = a / b\n",
        "elif operacion == 'suma':\n",
        "  result = a + b\n",
        "elif operacion == 'resta':\n",
        "  result = a - b\n",
        "elif operacion == 'pot':\n",
        "  result = a ** b\n",
        "else:\n",
        "  print('No ingresaste una operación valida')\n",
        "\n",
        "print(f'El resultado es: {result}')\n",
        "if result % 2 == 0:\n",
        "   print('es par')\n",
        "else:\n",
        "   print('es impar')\n",
        "\n",
        "if result >= 0:\n",
        "   print('es positivo')\n",
        "else:\n",
        "   print('es negativo')\n",
        "\n",
        "if result % 1 == 0:\n",
        "   print('es entero')\n",
        "else:\n",
        "   print('es decimal')\n"
      ],
      "metadata": {
        "colab": {
          "base_uri": "https://localhost:8080/"
        },
        "id": "JoJv3e8gQQsM",
        "outputId": "31c99b1f-eb83-4268-ef99-240926cb52fd"
      },
      "execution_count": null,
      "outputs": [
        {
          "output_type": "stream",
          "name": "stdout",
          "text": [
            "Ingresa un número 5\n",
            "Ingresa otro un número 5\n",
            "¿Qué operación deseas realizar (sum, rest, mult, div, pot) pot\n",
            "El resultado es: 3125.0\n",
            "es impar\n",
            "es positivo\n",
            "es entero\n"
          ]
        }
      ]
    },
    {
      "cell_type": "markdown",
      "source": [
        "11 - Después de recolectar los valores de los 3 lados de un triángulo, debemos verificar si realmente pueden formar un triángulo siguiendo el consejo \"Tres lados forman un triángulo cuando la suma de cualquier par de lados es mayor que el tercer lado\". Esta verificación se puede realizar con el operador \"and\". Luego, podemos verificar si todos los lados son iguales, lo que forma un triángulo equilátero, o si todos los lados son diferentes, lo que forma un triángulo escaleno. Estas verificaciones se pueden realizar con el operador \"and\" y los operadores \"== y \"! =\". Finalmente, utilizamos \"else\" para el caso de un triángulo isósceles."
      ],
      "metadata": {
        "id": "cOIicbNgsufw"
      }
    },
    {
      "cell_type": "code",
      "source": [
        "co = float(input('Ingresa un valor: '))\n",
        "ca = float(input('Ingresa un valor: '))\n",
        "hip = float(input('Ingresa un valor: '))\n",
        "#cuando la suma de cualquier par de lados es mayor que el tercer lado\n",
        "if co + ca > hip and hip + co > ca and ca + hip > co:\n",
        "  #todos los lados son iguales, lo que forma un triángulo equilátero\n",
        "  if co == ca and co == hip:\n",
        "    print('El triangulo es equilatero')\n",
        "  elif co != ca and co != hip and hip != ca:\n",
        "    print('el triangulo es escaleno')\n",
        "  else:\n",
        "    print('el triangulo es isoceles')\n",
        "else:\n",
        "  print('No se puede formar un triangulo')"
      ],
      "metadata": {
        "colab": {
          "base_uri": "https://localhost:8080/"
        },
        "id": "fRFR_bsRnwPy",
        "outputId": "256ad74e-6594-4984-bf5e-e035c95fcbd0"
      },
      "execution_count": null,
      "outputs": [
        {
          "output_type": "stream",
          "name": "stdout",
          "text": [
            "Ingresa un valor: 5\n",
            "Ingresa un valor: 8\n",
            "Ingresa un valor: 8\n",
            "el triangulo es isoceles\n"
          ]
        }
      ]
    },
    {
      "cell_type": "markdown",
      "source": [
        "12 - Un establecimiento está vendiendo combustibles con descuentos variables. Para el etanol, si la cantidad comprada es de hasta 15 litros, el descuento será del 2% por litro. En caso contrario, será del 4% por litro. Para el diésel, si la cantidad comprada es de hasta 15 litros, el descuento será del 3% por litro. En caso contrario, será del 5% por litro. El precio por litro de diésel es de 2.00 y el precio por litro de etanol es de 1.70. Escribe un programa que lea la cantidad de litros vendidos y el tipo de combustible (E para etanol y D para diésel) y calcule el valor a pagar por el cliente. Ten en cuenta algunas sugerencias:\n",
        "\n",
        "\n",
        "*   El valor del descuento será el producto del precio por litro, la cantidad de litros y el valor del descuento.\n",
        "\n",
        "*   El valor a pagar por un cliente será el resultado de la multiplicación del precio por litro por la cantidad de litros menos el valor del descuento resultante del cálculo.\n",
        "\n",
        "\n"
      ],
      "metadata": {
        "id": "uwzlsWE9zjbN"
      }
    },
    {
      "cell_type": "code",
      "source": [
        "tipoComb = input('Ingresa el tipo de combustible (E o D): ').upper()\n",
        "litros = float(input('Ingresa la cantidad de litros: '))\n",
        "\n",
        "if tipoComb == 'E':\n",
        "  pxl = 1.7\n",
        "  if litros <= 15:\n",
        "    desc = 0.02\n",
        "  else:\n",
        "    desc = 0.04\n",
        "elif tipoComb == 'D':\n",
        "  pxl = 2\n",
        "  if litros <= 15:\n",
        "    desc = 0.03\n",
        "  else:\n",
        "    desc = 0.05\n",
        "else:\n",
        "  print('Ingresa un combustible valido')\n",
        "\n",
        "pago = (pxl * litros) - (pxl * litros * desc)\n",
        "print (f'El valor a pagar por el cliente es de ${pago}')\n"
      ],
      "metadata": {
        "colab": {
          "base_uri": "https://localhost:8080/"
        },
        "id": "9cnDp7XYzr6v",
        "outputId": "b70169fc-ed1a-408d-fc1c-ce295fdd2a33"
      },
      "execution_count": null,
      "outputs": [
        {
          "output_type": "stream",
          "name": "stdout",
          "text": [
            "Ingresa el tipo de combustible (E o D): d\n",
            "Ingresa la cantidad de litros: 60\n",
            "El valor a pagar por el cliente es de $114.0\n"
          ]
        }
      ]
    },
    {
      "cell_type": "markdown",
      "source": [
        "13 - En una empresa de venta de bienes raíces, debes crear un código que analice los datos de ventas anuales para ayudar a la dirección en la toma de decisiones. El código debe recopilar los datos de cantidad de ventas durante los años 2022 y 2023 y calcular la variación porcentual. A partir del valor de la variación, se deben proporcionar las siguientes sugerencias:\n",
        "*   Para una variación superior al 20%: bonificación para el equipo de ventas.\n",
        "*   Para una variación entre el 2% y el 20%: pequeña bonificación para el equipo de ventas.\n",
        "*   Para una variación entre el 2% y el -10%: planificación de políticas de incentivo a las ventas.\n",
        "* Para bonificaciones inferiores al -10%: recorte de gastos."
      ],
      "metadata": {
        "id": "klGWIQzVHD-D"
      }
    },
    {
      "cell_type": "code",
      "source": [
        "va2022 = float(input ('Ingrese el total de ventas anuales de 2022: '))\n",
        "va2023 = float(input ('Ingrese el total de ventas anuales de 2023: '))\n",
        "\n",
        "vp = ((va2023 - va2022) / va2022) * 100\n",
        "\n",
        "if vp > 20:\n",
        "  print ('bonificación para el equipo de ventas.')\n",
        "elif 2 <= vp <= 20:\n",
        "  print ('pequeña bonificación para el equipo de ventas.')\n",
        "elif -10 <= vp < 2:\n",
        "  print ('planificación de políticas de incentivo a las ventas.')\n",
        "else:\n",
        "  print('recorte de gastos.')\n"
      ],
      "metadata": {
        "colab": {
          "base_uri": "https://localhost:8080/"
        },
        "id": "krP-uWIWHhX0",
        "outputId": "aaae4db7-987a-4012-8ecf-e3c5a6fb0c49"
      },
      "execution_count": null,
      "outputs": [
        {
          "output_type": "stream",
          "name": "stdout",
          "text": [
            "Ingrese el total de ventas anuales de 2022: 10\n",
            "Ingrese el total de ventas anuales de 2023: 10\n",
            "planificación de políticas de incentivo a las ventas.\n"
          ]
        }
      ]
    },
    {
      "cell_type": "code",
      "source": [
        "precio = 2.00\n",
        "precio += 3\n",
        "print(precio)\n"
      ],
      "metadata": {
        "colab": {
          "base_uri": "https://localhost:8080/"
        },
        "id": "a9OGijDULE0i",
        "outputId": "e5d1f00e-5c04-446b-ab2c-975d3dd3da81"
      },
      "execution_count": null,
      "outputs": [
        {
          "output_type": "stream",
          "name": "stdout",
          "text": [
            "5.0\n"
          ]
        }
      ]
    },
    {
      "cell_type": "code",
      "source": [
        "precio = 6.00\n",
        "precio //= 3\n",
        "print(precio)"
      ],
      "metadata": {
        "colab": {
          "base_uri": "https://localhost:8080/"
        },
        "id": "wp8Pc8TOOWm_",
        "outputId": "ee9b24cd-0331-49fa-cdd3-4ea101cf86a6"
      },
      "execution_count": null,
      "outputs": [
        {
          "output_type": "stream",
          "name": "stdout",
          "text": [
            "2.0\n"
          ]
        }
      ]
    },
    {
      "cell_type": "code",
      "source": [
        "for i in range(1, 6):\n",
        "    if i == 4:\n",
        "        continue\n",
        "    print(i)"
      ],
      "metadata": {
        "colab": {
          "base_uri": "https://localhost:8080/"
        },
        "id": "H8PmZXEHPHH2",
        "outputId": "57e8c7d9-84d3-4de4-a039-30faf05ff425"
      },
      "execution_count": null,
      "outputs": [
        {
          "output_type": "stream",
          "name": "stdout",
          "text": [
            "1\n",
            "2\n",
            "3\n",
            "5\n"
          ]
        }
      ]
    },
    {
      "cell_type": "code",
      "source": [
        "for i in range(1, 6):\n",
        "    if i == 4:\n",
        "        break\n",
        "    print(i)"
      ],
      "metadata": {
        "colab": {
          "base_uri": "https://localhost:8080/"
        },
        "id": "nvAX5MjmW1Hr",
        "outputId": "8efcac18-34c7-4782-83d9-ead81bc5e8b2"
      },
      "execution_count": null,
      "outputs": [
        {
          "output_type": "stream",
          "name": "stdout",
          "text": [
            "1\n",
            "2\n",
            "3\n"
          ]
        }
      ]
    },
    {
      "cell_type": "markdown",
      "source": [
        "# Entrenando la programación"
      ],
      "metadata": {
        "id": "DDwaiMvqEYvE"
      }
    },
    {
      "cell_type": "markdown",
      "source": [
        "1 - Escribe un programa que solicite dos números enteros e imprima todos los números enteros entre ellos."
      ],
      "metadata": {
        "id": "8MhMuEgHElRM"
      }
    },
    {
      "cell_type": "code",
      "source": [
        "numero1 = int(input('ingresa un valor: '))\n",
        "numero2 = int(input('ingresa un segundo valor: '))\n",
        "\n",
        "if numero1 > numero2:\n",
        "  for n in range(numero2, numero1 + 1):\n",
        "    print(n)\n",
        "\n",
        "elif numero2 > numero1:\n",
        "  for n in range(numero1, numero2 + 1):\n",
        "    print(n)\n",
        "\n",
        "else:\n",
        "  print('No se puede generar una escala')\n",
        ""
      ],
      "metadata": {
        "id": "MJWf6vSLFWHE",
        "outputId": "5072d76a-a5df-4e25-83fe-a5f990b2ffdd",
        "colab": {
          "base_uri": "https://localhost:8080/"
        }
      },
      "execution_count": 11,
      "outputs": [
        {
          "output_type": "stream",
          "name": "stdout",
          "text": [
            "ingresa un valor: 10\n",
            "ingresa un segundo valor: 10\n",
            "No se puede generar una escala\n"
          ]
        }
      ]
    },
    {
      "cell_type": "markdown",
      "source": [
        "2 - Escribe un programa para calcular cuántos días tomará que la colonia de una bacteria A supere o iguale a la colonia de una bacteria B, basado en tasas de crecimiento del 3% y 1.5%, respectivamente. Supón que la colonia A comienza con 4 elementos y B con 10."
      ],
      "metadata": {
        "id": "uSIKH6iXEuA0"
      }
    },
    {
      "cell_type": "code",
      "source": [
        "bacteriaA = 4\n",
        "bacteriaB = 10\n",
        "contador = 0\n",
        "while bacteriaA <= bacteriaB:\n",
        "  bacteriaA *= 1 + 0.03\n",
        "  bacteriaB *= 1 + 0.015\n",
        "  contador += 1\n",
        "\n",
        "print(f'La bacteria A supera o iguala a la bacteria B en {contador} días')"
      ],
      "metadata": {
        "id": "JQHD4DOFFWlO",
        "outputId": "1809d8cd-c917-4d10-8b80-987b204c685f",
        "colab": {
          "base_uri": "https://localhost:8080/"
        }
      },
      "execution_count": 15,
      "outputs": [
        {
          "output_type": "stream",
          "name": "stdout",
          "text": [
            "La bacteria A supera o iguala a la bacteria B en 63 días\n"
          ]
        }
      ]
    },
    {
      "cell_type": "markdown",
      "source": [
        "3 - Para procesar una cantidad de 15 datos de evaluaciones de usuarios de un servicio de la empresa, necesitamos verificar si las calificaciones son válidas. Por lo tanto, escribe un programa que recibirá calificaciones del 0 al 5 y verificará si son valores válidos. Si se ingresa una calificación superior a 5 o inferior a 0, se repetirá hasta que el usuario ingrese un valor válido."
      ],
      "metadata": {
        "id": "_8uN4s6jEt4M"
      }
    },
    {
      "cell_type": "code",
      "source": [
        "for i in range(15):\n",
        "  nota = float(input(f'Ingrese la nota del usuario {i}: '))\n",
        "\n",
        "  while (nota < 0 ) or (nota > 5 ):\n",
        "    nota = float( input(f'Nota no valida, ingresa nuevamente la nota del usuario: '))\n",
        "\n",
        "print('Verificación completa. Todas las notas son validas.')\n"
      ],
      "metadata": {
        "id": "EOfQJAVmFXCc",
        "outputId": "dadf0d34-5b10-4607-c33b-04694f0aae7b",
        "colab": {
          "base_uri": "https://localhost:8080/"
        }
      },
      "execution_count": 19,
      "outputs": [
        {
          "output_type": "stream",
          "name": "stdout",
          "text": [
            "Ingrese la nota del usuario 0: 1\n",
            "Ingrese la nota del usuario 1: 2\n",
            "Ingrese la nota del usuario 2: 3\n",
            "Ingrese la nota del usuario 3: 4\n",
            "Ingrese la nota del usuario 4: 5\n",
            "Ingrese la nota del usuario 5: 6\n",
            "Nota no valida, ingresa nuevamente la nota del usuario: 1\n",
            "Ingrese la nota del usuario 6: 2\n",
            "Ingrese la nota del usuario 7: 3\n",
            "Ingrese la nota del usuario 8: 4\n",
            "Ingrese la nota del usuario 9: 5\n",
            "Ingrese la nota del usuario 10: 6\n",
            "Nota no valida, ingresa nuevamente la nota del usuario: 7\n",
            "Nota no valida, ingresa nuevamente la nota del usuario: 8\n",
            "Nota no valida, ingresa nuevamente la nota del usuario: 9\n",
            "Nota no valida, ingresa nuevamente la nota del usuario: 1\n",
            "Ingrese la nota del usuario 11: 2\n",
            "Ingrese la nota del usuario 12: 3\n",
            "Ingrese la nota del usuario 13: 4\n",
            "Ingrese la nota del usuario 14: 5\n",
            "Verificación completa. Todas las notas son validas.\n"
          ]
        }
      ]
    },
    {
      "cell_type": "markdown",
      "source": [
        "4 - Desarrolla un programa que lea un conjunto indefinido de temperaturas en grados Celsius y calcule su promedio. La lectura debe detenerse al ingresar el valor -273°C."
      ],
      "metadata": {
        "id": "1bXp9LGjEtvk"
      }
    },
    {
      "cell_type": "code",
      "source": [
        "temp = float(input('Ingresa el valor de la temperatura en °C: '))\n",
        "contador = 0\n",
        "suma = 0\n",
        "\n",
        "while temp != -273:\n",
        "  contador += 1\n",
        "  suma += temp\n",
        "  temp = float(input('Ingresa el valor de la temperatura en °C: '))\n",
        "\n",
        "\n",
        "prom = suma / contador\n",
        "\n",
        "print(f'El promedio de las temperaturas es: {prom}')"
      ],
      "metadata": {
        "id": "DOYViF43FXx0",
        "outputId": "8739b902-467e-48ee-e7d7-aad9f30a28e7",
        "colab": {
          "base_uri": "https://localhost:8080/"
        }
      },
      "execution_count": 20,
      "outputs": [
        {
          "output_type": "stream",
          "name": "stdout",
          "text": [
            "Ingresa el valor de la temperatura en °C: 5\n",
            "Ingresa el valor de la temperatura en °C: 10\n",
            "Ingresa el valor de la temperatura en °C: 15\n",
            "Ingresa el valor de la temperatura en °C: 20\n",
            "Ingresa el valor de la temperatura en °C: -273\n",
            "El promedio de las temperaturas es: 12.5\n"
          ]
        }
      ]
    },
    {
      "cell_type": "markdown",
      "source": [
        "5 - Escribe un programa que calcule el factorial de un número entero proporcionado por el usuario. Recuerda que el factorial de un número entero es el producto de ese número por todos sus antecesores hasta llegar al número 1. Por ejemplo, el factorial de 5 es 5 x 4 x 3 x 2 x 1 = 120."
      ],
      "metadata": {
        "id": "W0qXuQiWEtnM"
      }
    },
    {
      "cell_type": "code",
      "source": [
        "fact = int(input('Ingresa el valor de la factorial: '))\n",
        "contador = 1\n",
        "\n",
        "i = fact\n",
        "while i > 0:\n",
        "  contador *= i\n",
        "  i -= 1\n",
        "\n",
        "print(f'El valor de la factorial de {fact} es: {contador}')"
      ],
      "metadata": {
        "id": "FMRNwHNLFYRN",
        "outputId": "651b684b-aa01-43aa-9ee2-3dc3a14dd0a9",
        "colab": {
          "base_uri": "https://localhost:8080/"
        }
      },
      "execution_count": 24,
      "outputs": [
        {
          "output_type": "stream",
          "name": "stdout",
          "text": [
            "Ingresa el valor de la factorial: 3\n",
            "El valor de la factorial de 3 es: 6\n"
          ]
        }
      ]
    },
    {
      "cell_type": "markdown",
      "source": [
        "## Momento de los proyectos"
      ],
      "metadata": {
        "id": "3ynpimnyEtdk"
      }
    },
    {
      "cell_type": "markdown",
      "source": [
        "6 - Escribe un programa que genere la tabla de multiplicar de un número entero del 1 al 10, según la elección del usuario. Como ejemplo, para el número 2, la tabla de multiplicar debe mostrarse en el siguiente formato:"
      ],
      "metadata": {
        "id": "ucKf8erOEtSV"
      }
    },
    {
      "cell_type": "code",
      "source": [],
      "metadata": {
        "id": "6XNPelbGFZEk"
      },
      "execution_count": null,
      "outputs": []
    },
    {
      "cell_type": "markdown",
      "source": [
        "7 - Los números primos tienen diversas aplicaciones en Ciencia de Datos, como en criptografía y seguridad. Un número primo es aquel que es divisible solo por sí mismo y por 1. Por lo tanto, crea un programa que solicite un número entero y determine si es un número primo o no."
      ],
      "metadata": {
        "id": "w0lYvAW5EtAV"
      }
    },
    {
      "cell_type": "code",
      "source": [],
      "metadata": {
        "id": "YF4PR3dUFZkN"
      },
      "execution_count": null,
      "outputs": []
    },
    {
      "cell_type": "markdown",
      "source": [
        "8 - Vamos a comprender la distribución de edades de los pensionistas de una empresa de seguros. Escribe un programa que lea las edades de una cantidad no informada de clientes y muestre la distribución en los intervalos [0-25], [26-50], [51-75] y [76-100]. La entrada de datos se detendrá al ingresar un número negativo."
      ],
      "metadata": {
        "id": "J0SHAsrGFCll"
      }
    },
    {
      "cell_type": "code",
      "source": [],
      "metadata": {
        "id": "CcybixCkFaR1"
      },
      "execution_count": null,
      "outputs": []
    },
    {
      "cell_type": "markdown",
      "source": [
        "9 - En una elección para la gerencia de una empresa con 20 empleados, hay cuatro candidatos. Escribe un programa que calcule al ganador de la elección. La votación se realizó de la siguiente manera:\n",
        "Cada empleado votó por uno de los cuatro candidatos (representados por los números 1, 2, 3 y 4).\n",
        "\n",
        "También se contaron los votos nulos (representados por el número 5) y los votos en blanco (representados por el número 6).\n",
        "\n",
        "Al final de la votación, el programa debe mostrar el número total de votos para cada candidato, los votos nulos y los votos en blanco. Además, debe calcular y mostrar el porcentaje de votos nulos con respecto al total de votos y el porcentaje de votos en blanco con respecto al total de votos."
      ],
      "metadata": {
        "id": "riFsoQswFCdg"
      }
    },
    {
      "cell_type": "code",
      "source": [],
      "metadata": {
        "id": "BnRrx8yVFbKO"
      },
      "execution_count": null,
      "outputs": []
    }
  ]
}