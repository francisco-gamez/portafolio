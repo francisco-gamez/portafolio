{
  "nbformat": 4,
  "nbformat_minor": 0,
  "metadata": {
    "colab": {
      "provenance": [],
      "authorship_tag": "ABX9TyP9Gmd65OZ01eN9WUtvZVrX",
      "include_colab_link": true
    },
    "kernelspec": {
      "name": "python3",
      "display_name": "Python 3"
    },
    "language_info": {
      "name": "python"
    }
  },
  "cells": [
    {
      "cell_type": "markdown",
      "metadata": {
        "id": "view-in-github",
        "colab_type": "text"
      },
      "source": [
        "<a href=\"https://colab.research.google.com/github/francisco-gamez/portafolio/blob/main/learningpaython.ipynb\" target=\"_parent\"><img src=\"https://colab.research.google.com/assets/colab-badge.svg\" alt=\"Open In Colab\"/></a>"
      ]
    },
    {
      "cell_type": "code",
      "source": [],
      "metadata": {
        "id": "krHG4ZNpu2zU"
      },
      "execution_count": null,
      "outputs": []
    },
    {
      "cell_type": "code",
      "execution_count": null,
      "metadata": {
        "colab": {
          "base_uri": "https://localhost:8080/"
        },
        "id": "wt8XlAobuT8m",
        "outputId": "180743ff-d7c9-468b-ba63-4efe96794576"
      },
      "outputs": [
        {
          "output_type": "stream",
          "name": "stdout",
          "text": [
            "Ingresa tu nombre: Francisco\n",
            "Hola, Francisco\n"
          ]
        }
      ],
      "source": [
        "nombre_usuario = input('Ingresa tu nombre: ')\n",
        "print('Hola,', nombre_usuario)"
      ]
    },
    {
      "cell_type": "code",
      "source": [
        "nombre_usuario = input('Ingresa tu nombre: ')\n",
        "edad_usuario = input('Ingresa tu edad: ')\n",
        "print(f'Hola {nombre_usuario}, tienes {edad_usuario} años')"
      ],
      "metadata": {
        "colab": {
          "base_uri": "https://localhost:8080/"
        },
        "id": "qqEpZ7iPuzQH",
        "outputId": "b97725a4-cbcf-43c6-ddba-db010ce59fa4"
      },
      "execution_count": null,
      "outputs": [
        {
          "output_type": "stream",
          "name": "stdout",
          "text": [
            "Ingresa tu nombre: Francisco\n",
            "Ingresa tu edad: 33\n",
            "Hola Francisco, tienes 33 años\n"
          ]
        }
      ]
    },
    {
      "cell_type": "code",
      "source": [
        "nombre_usuario = input('Ingresa tu nombre: ')\n",
        "edad_usuario = int(input('Ingresa tu edad: '))\n",
        "altura_usuario = float(input('Ingresa tu altura: '))\n",
        "print(f'Hola {nombre_usuario}, tienes {edad_usuario} años y mides {altura_usuario} metros')"
      ],
      "metadata": {
        "colab": {
          "base_uri": "https://localhost:8080/"
        },
        "id": "f7ZOKCMLwzio",
        "outputId": "64e9b030-880b-4790-e300-a6fd7796dbdc"
      },
      "execution_count": null,
      "outputs": [
        {
          "output_type": "stream",
          "name": "stdout",
          "text": [
            "Ingresa tu nombre: Francisco\n",
            "Ingresa tu edad: 33\n",
            "Ingresa tu altura: 1.8\n",
            "Hola Francisco, tienes 33 años y mides 1.8metros\n"
          ]
        }
      ]
    },
    {
      "cell_type": "code",
      "source": [
        "valor1 = float(input('Ingresa valor: '))\n",
        "valor2 = float(input('Ingresa valor: '))\n",
        "print (valor1+valor2)\n"
      ],
      "metadata": {
        "colab": {
          "base_uri": "https://localhost:8080/"
        },
        "id": "_7dSZj9RxniH",
        "outputId": "753ce166-f4b9-4834-8b62-6546cf2dea71"
      },
      "execution_count": null,
      "outputs": [
        {
          "output_type": "stream",
          "name": "stdout",
          "text": [
            "Ingresa valor: 1\n",
            "Ingresa valor: 2\n",
            "3.0\n"
          ]
        }
      ]
    },
    {
      "cell_type": "code",
      "source": [
        "valor1 = float(input('Ingresa valor: '))\n",
        "valor2 = float(input('Ingresa valor: '))\n",
        "valor3 = float(input('Ingresa valor: '))\n",
        "print (valor1+valor2+valor3)\n"
      ],
      "metadata": {
        "colab": {
          "base_uri": "https://localhost:8080/"
        },
        "id": "CaRl1MVwyOzb",
        "outputId": "63ea64c2-1ffb-41e1-9e35-087dd8fbc0b9"
      },
      "execution_count": null,
      "outputs": [
        {
          "output_type": "stream",
          "name": "stdout",
          "text": [
            "Ingresa valor: 1\n",
            "Ingresa valor: 2\n",
            "Ingresa valor: 3\n",
            "6.0\n"
          ]
        }
      ]
    },
    {
      "cell_type": "code",
      "source": [
        "valor1 = float(input('Ingresa valor: '))\n",
        "valor2 = float(input('Ingresa valor: '))\n",
        "print (valor1-valor2)\n"
      ],
      "metadata": {
        "colab": {
          "base_uri": "https://localhost:8080/"
        },
        "id": "0wMyasAsyY3M",
        "outputId": "6f4bb8d6-4fc9-437e-89e2-91751cb15cf1"
      },
      "execution_count": null,
      "outputs": [
        {
          "output_type": "stream",
          "name": "stdout",
          "text": [
            "Ingresa valor: 3\n",
            "Ingresa valor: 2\n",
            "1.0\n"
          ]
        }
      ]
    },
    {
      "cell_type": "code",
      "source": [
        "valor1 = float(input('Ingresa valor: '))\n",
        "valor2 = float(input('Ingresa valor: '))\n",
        "print (valor1*valor2)\n"
      ],
      "metadata": {
        "colab": {
          "base_uri": "https://localhost:8080/"
        },
        "id": "24pweSRgyk3f",
        "outputId": "ebe49aa9-cd3c-4843-d786-5769f1c1cdd6"
      },
      "execution_count": null,
      "outputs": [
        {
          "output_type": "stream",
          "name": "stdout",
          "text": [
            "Ingresa valor: 3\n",
            "Ingresa valor: 2\n",
            "6.0\n"
          ]
        }
      ]
    },
    {
      "cell_type": "code",
      "source": [
        "valor1 = float(input('Ingresa valor: '))\n",
        "valor2 = float(input('Ingresa valor: '))\n",
        "print(valor1/valor2)"
      ],
      "metadata": {
        "colab": {
          "base_uri": "https://localhost:8080/"
        },
        "id": "wLauxRx1yr1z",
        "outputId": "4b5eca8f-ecef-44b8-f0b1-b1df973b00f8"
      },
      "execution_count": null,
      "outputs": [
        {
          "output_type": "stream",
          "name": "stdout",
          "text": [
            "Ingresa valor: 4\n",
            "Ingresa valor: 2\n",
            "2.0\n"
          ]
        }
      ]
    },
    {
      "cell_type": "code",
      "source": [
        "valor1 = float(input('Ingresa valor: '))\n",
        "valor2 = float(input('Ingresa valor: '))\n",
        "print(valor1 ** valor2)"
      ],
      "metadata": {
        "colab": {
          "base_uri": "https://localhost:8080/"
        },
        "id": "w6sC4Wtv2SYf",
        "outputId": "9fe670e5-c1c0-4340-f66a-c76338c6ba30"
      },
      "execution_count": null,
      "outputs": [
        {
          "output_type": "stream",
          "name": "stdout",
          "text": [
            "Ingresa valor: 2\n",
            "Ingresa valor: 3\n",
            "8.0\n"
          ]
        }
      ]
    },
    {
      "cell_type": "code",
      "source": [
        "valor1 = float(input('Ingresa valor: '))\n",
        "valor2 = float(input('Ingresa valor: '))\n",
        "print(valor1 % valor2)"
      ],
      "metadata": {
        "colab": {
          "base_uri": "https://localhost:8080/"
        },
        "id": "_ko-ocL83cxG",
        "outputId": "867c2a83-6235-4c52-ef8e-197b1649f6ba"
      },
      "execution_count": null,
      "outputs": [
        {
          "output_type": "stream",
          "name": "stdout",
          "text": [
            "Ingresa valor: 20\n",
            "Ingresa valor: 3\n",
            "2.0\n"
          ]
        }
      ]
    },
    {
      "cell_type": "code",
      "source": [
        "valor1 = float(input('Ingresa valor: '))\n",
        "valor2 = float(input('Ingresa valor: '))\n",
        "print(valor1 // valor2)"
      ],
      "metadata": {
        "colab": {
          "base_uri": "https://localhost:8080/"
        },
        "id": "MG9qhhov31gz",
        "outputId": "16360381-506b-4364-8a14-5fc0de8e864e"
      },
      "execution_count": null,
      "outputs": [
        {
          "output_type": "stream",
          "name": "stdout",
          "text": [
            "Ingresa valor: 20\n",
            "Ingresa valor: 3\n",
            "6.0\n"
          ]
        }
      ]
    },
    {
      "cell_type": "code",
      "source": [
        "valor1 = float(input('Ingresa valor: '))\n",
        "valor2 = float(input('Ingresa valor: '))\n",
        "valor3 = float(input('Ingresa valor: '))\n",
        "print ((valor1+valor2+valor3)/3)"
      ],
      "metadata": {
        "colab": {
          "base_uri": "https://localhost:8080/"
        },
        "id": "taMOufVH4JNV",
        "outputId": "9c465951-7958-4089-d255-865cbc78983d"
      },
      "execution_count": null,
      "outputs": [
        {
          "output_type": "stream",
          "name": "stdout",
          "text": [
            "Ingresa valor: 9.5\n",
            "Ingresa valor: 7.7\n",
            "Ingresa valor: 8.3\n",
            "8.5\n"
          ]
        }
      ]
    },
    {
      "cell_type": "code",
      "source": [
        "print((5*1+12*2+20*3+15*4)/(1+2+3+4))"
      ],
      "metadata": {
        "colab": {
          "base_uri": "https://localhost:8080/"
        },
        "id": "cGFEXEkE4aY3",
        "outputId": "49dff06d-af9b-42f1-bcb1-1db1ad12a528"
      },
      "execution_count": null,
      "outputs": [
        {
          "output_type": "stream",
          "name": "stdout",
          "text": [
            "14.9\n"
          ]
        }
      ]
    },
    {
      "cell_type": "code",
      "source": [
        "frase = 'Yo no se quien pierde mas aqui en esta despedida'\n",
        "frase"
      ],
      "metadata": {
        "colab": {
          "base_uri": "https://localhost:8080/",
          "height": 36
        },
        "id": "rlki3RfX5Y3j",
        "outputId": "fd813825-f85b-4cf6-e830-858e5728f397"
      },
      "execution_count": null,
      "outputs": [
        {
          "output_type": "execute_result",
          "data": {
            "text/plain": [
              "'Yo no se quien pierde mas aqui en esta despedida'"
            ],
            "application/vnd.google.colaboratory.intrinsic+json": {
              "type": "string"
            }
          },
          "metadata": {},
          "execution_count": 9
        }
      ]
    },
    {
      "cell_type": "code",
      "source": [
        "frase = input('Ingresa una frase: ')\n",
        "print(frase)"
      ],
      "metadata": {
        "colab": {
          "base_uri": "https://localhost:8080/"
        },
        "id": "go13Ayao57Zx",
        "outputId": "12950569-1cff-49d6-dedf-1f56737cbb99"
      },
      "execution_count": null,
      "outputs": [
        {
          "output_type": "stream",
          "name": "stdout",
          "text": [
            "Ingresa una frase: Al infinito y mas allá\n",
            "Al infinito y mas allá\n"
          ]
        }
      ]
    },
    {
      "cell_type": "code",
      "source": [
        "frase = input('Ingresa una frase: ')\n",
        "frase.upper()"
      ],
      "metadata": {
        "colab": {
          "base_uri": "https://localhost:8080/",
          "height": 54
        },
        "id": "BOR4vII66M9U",
        "outputId": "ef0deb98-3adf-411a-944f-4f907f71911c"
      },
      "execution_count": null,
      "outputs": [
        {
          "name": "stdout",
          "output_type": "stream",
          "text": [
            "Ingresa una frase: hola mundo\n"
          ]
        },
        {
          "output_type": "execute_result",
          "data": {
            "text/plain": [
              "'HOLA MUNDO'"
            ],
            "application/vnd.google.colaboratory.intrinsic+json": {
              "type": "string"
            }
          },
          "metadata": {},
          "execution_count": 15
        }
      ]
    },
    {
      "cell_type": "code",
      "source": [
        "frase = input('Ingresa una frase: ')\n",
        "frase.lower()"
      ],
      "metadata": {
        "colab": {
          "base_uri": "https://localhost:8080/",
          "height": 54
        },
        "id": "9OvCHhQA6dal",
        "outputId": "858a35b4-3448-4cb7-f07f-021081324696"
      },
      "execution_count": null,
      "outputs": [
        {
          "name": "stdout",
          "output_type": "stream",
          "text": [
            "Ingresa una frase: HOLA MUNDO\n"
          ]
        },
        {
          "output_type": "execute_result",
          "data": {
            "text/plain": [
              "'hola mundo'"
            ],
            "application/vnd.google.colaboratory.intrinsic+json": {
              "type": "string"
            }
          },
          "metadata": {},
          "execution_count": 16
        }
      ]
    },
    {
      "cell_type": "code",
      "source": [
        "frase = '  Yo no se quien pierde mas aqui en esta despedida  '\n",
        "frase.strip()"
      ],
      "metadata": {
        "colab": {
          "base_uri": "https://localhost:8080/",
          "height": 36
        },
        "id": "NGAu_paa7gIi",
        "outputId": "4bd3713c-b13c-40b0-a0ca-4060068ed263"
      },
      "execution_count": null,
      "outputs": [
        {
          "output_type": "execute_result",
          "data": {
            "text/plain": [
              "'Yo no se quien pierde mas aqui en esta despedida'"
            ],
            "application/vnd.google.colaboratory.intrinsic+json": {
              "type": "string"
            }
          },
          "metadata": {},
          "execution_count": 18
        }
      ]
    },
    {
      "cell_type": "code",
      "source": [
        "frase = input('Ingresa una frase: ')\n",
        "frase.strip()"
      ],
      "metadata": {
        "colab": {
          "base_uri": "https://localhost:8080/",
          "height": 54
        },
        "id": "jKZB7wwa7zis",
        "outputId": "634f50b0-b8bb-41ea-807b-b4742f72d4ce"
      },
      "execution_count": null,
      "outputs": [
        {
          "name": "stdout",
          "output_type": "stream",
          "text": [
            "Ingresa una frase:   Yo no se quien pierde mas aqui en esta despedida   \n"
          ]
        },
        {
          "output_type": "execute_result",
          "data": {
            "text/plain": [
              "'Yo no se quien pierde mas aqui en esta despedida'"
            ],
            "application/vnd.google.colaboratory.intrinsic+json": {
              "type": "string"
            }
          },
          "metadata": {},
          "execution_count": 19
        }
      ]
    },
    {
      "cell_type": "code",
      "source": [
        "frase = input('Ingresa una frase: ')\n",
        "print(frase.strip().lower())"
      ],
      "metadata": {
        "colab": {
          "base_uri": "https://localhost:8080/"
        },
        "id": "4nEQ07-07-MX",
        "outputId": "54f6fcb9-8781-4604-f383-17699f93c2c7"
      },
      "execution_count": null,
      "outputs": [
        {
          "output_type": "stream",
          "name": "stdout",
          "text": [
            "Ingresa una frase:       Yo no se quien pierde mas aqui en esta despedida  \n",
            "yo no se quien pierde mas aqui en esta despedida\n"
          ]
        }
      ]
    },
    {
      "cell_type": "code",
      "source": [
        "frase = input('Ingresa una frase: ')\n",
        "print(frase.replace('e','f'))"
      ],
      "metadata": {
        "colab": {
          "base_uri": "https://localhost:8080/"
        },
        "id": "I9n4yuv-8Sto",
        "outputId": "99db234c-9719-4917-9c59-bc371d1aa6a5"
      },
      "execution_count": null,
      "outputs": [
        {
          "output_type": "stream",
          "name": "stdout",
          "text": [
            "Ingresa una frase: Yo no se quien pierde mas aqui en esta despedida  \n",
            "Yo no sf quifn pifrdf mas aqui fn fsta dfspfdida  \n"
          ]
        }
      ]
    },
    {
      "cell_type": "code",
      "source": [
        "frase = input('Ingresa una frase: ')\n",
        "print(frase.replace('a',chr(64)))"
      ],
      "metadata": {
        "colab": {
          "base_uri": "https://localhost:8080/"
        },
        "id": "NiSfzQzq8jbb",
        "outputId": "e4aba322-dc2d-4091-ca3b-60b68dde9c31"
      },
      "execution_count": null,
      "outputs": [
        {
          "output_type": "stream",
          "name": "stdout",
          "text": [
            "Ingresa una frase: Yo no se quien pierde mas aqui en esta despedida\n",
            "Yo no se quien pierde m@s @qui en est@ despedid@\n"
          ]
        }
      ]
    },
    {
      "cell_type": "code",
      "source": [
        "frase = input('Ingresa una frase: ')\n",
        "print(frase.replace('s',chr(36)))"
      ],
      "metadata": {
        "colab": {
          "base_uri": "https://localhost:8080/"
        },
        "id": "Lg9EYKWi-PXK",
        "outputId": "0b8b4fcd-ed28-4688-eb65-a1e9cf616a19"
      },
      "execution_count": null,
      "outputs": [
        {
          "output_type": "stream",
          "name": "stdout",
          "text": [
            "Ingresa una frase: Yo no se quien pierde mas aqui en esta despedida\n",
            "Yo no $e quien pierde ma$ aqui en e$ta de$pedida\n"
          ]
        }
      ]
    },
    {
      "cell_type": "code",
      "source": [
        "edad_maria = int(input('Ingrese la edad de María: '))\n",
        "edad_beatriz = int(input('Ingrese la edad de Beatriz: '))\n",
        "\n",
        "if edad_maria > edad_beatriz:\n",
        "  print('María es mayor que Beatriz.')"
      ],
      "metadata": {
        "colab": {
          "base_uri": "https://localhost:8080/"
        },
        "id": "Edlhlrcc_Fkk",
        "outputId": "1bb8b20b-a37f-42c8-9581-a3603e4c2c32"
      },
      "execution_count": null,
      "outputs": [
        {
          "output_type": "stream",
          "name": "stdout",
          "text": [
            "Ingrese la edad de María: 32\n",
            "Ingrese la edad de Beatriz: 20\n",
            "María es mayor que Beatriz.\n"
          ]
        }
      ]
    },
    {
      "cell_type": "markdown",
      "source": [
        "# Entrenando la programación"
      ],
      "metadata": {
        "id": "6Ly7EW9RukzT"
      }
    },
    {
      "cell_type": "markdown",
      "source": [
        "1 - Escribe un programa que pida a la persona usuaria que proporcione dos números y muestre el número más grande."
      ],
      "metadata": {
        "id": "quVjRfBoujFn"
      }
    },
    {
      "cell_type": "code",
      "source": [
        "numero1 = input('Ingresa un número: ')\n",
        "numero2 = input('Ingresa un número: ')\n",
        "if numero1 > numero1:\n",
        "  print(f'El número {numero1} es mayor al número {numero2}')\n",
        "else:\n",
        "  print(f'El número {numero2} es mayor al número {numero1}')"
      ],
      "metadata": {
        "colab": {
          "base_uri": "https://localhost:8080/"
        },
        "id": "nOiyzVmXDC-k",
        "outputId": "9ef1b66d-00c3-485c-c419-3f10120e23cb"
      },
      "execution_count": null,
      "outputs": [
        {
          "output_type": "stream",
          "name": "stdout",
          "text": [
            "Ingresa un número: 5\n",
            "Ingresa un número: 6\n",
            "El número 6 es mayor al número 5\n"
          ]
        }
      ]
    },
    {
      "cell_type": "markdown",
      "source": [
        "2 - Escribe un programa que solicite el porcentaje de crecimiento de producción de una empresa e informe si hubo un crecimiento (porcentaje positivo) o una disminución (porcentaje negativo)."
      ],
      "metadata": {
        "id": "I2rmWYWwufwr"
      }
    },
    {
      "cell_type": "code",
      "source": [
        "porcentaje = float(input('Ingresa el porsentaje de crecimiento: '))\n",
        "if porcentaje >= 0:\n",
        "  print ('El crecimiento fue positivo')\n",
        "else:\n",
        "  print ('El crecimiento fue negativo')\n"
      ],
      "metadata": {
        "colab": {
          "base_uri": "https://localhost:8080/"
        },
        "id": "k6g6CcOJ1l_b",
        "outputId": "7d76e01b-076c-46e5-83c4-2a53827a1cb2"
      },
      "execution_count": null,
      "outputs": [
        {
          "output_type": "stream",
          "name": "stdout",
          "text": [
            "Ingresa el porsentaje de crecimiento: -1\n",
            "El crecimiento fue negativo\n"
          ]
        }
      ]
    },
    {
      "cell_type": "markdown",
      "source": [
        "3 - Escribe un programa que determine si una letra proporcionada por la persona usuaria es una vocal o una consonante."
      ],
      "metadata": {
        "id": "iuFTW9xEuaR0"
      }
    },
    {
      "cell_type": "code",
      "source": [
        "abecedario = 'a,e,i,o,u'\n",
        "\n",
        "letra = input('Ingresa una letra: ').lower()\n",
        "\n",
        "if letra in abecedario:\n",
        "  print (f'la letra {letra} es una vocal')\n",
        "else:\n",
        "  print (f'La letra {letra} es una consonante')\n",
        "\n",
        "\n"
      ],
      "metadata": {
        "colab": {
          "base_uri": "https://localhost:8080/"
        },
        "id": "yEswnCNs2u0c",
        "outputId": "1efa1f11-3197-48d0-9c76-85b9e5ee1846"
      },
      "execution_count": null,
      "outputs": [
        {
          "output_type": "stream",
          "name": "stdout",
          "text": [
            "Ingresa una letra: A\n",
            "la letra a es una vocal\n"
          ]
        }
      ]
    },
    {
      "cell_type": "markdown",
      "source": [
        "4 - Escribe un programa que lea valores promedio de precios de un modelo de automóvil durante 3 años consecutivos y muestre el valor más alto y más bajo entre esos tres años."
      ],
      "metadata": {
        "id": "m0Kv-jeruUW1"
      }
    },
    {
      "cell_type": "code",
      "source": [
        "promedio1 = float(input('Ingresa el valor promedio de 2022: '))\n",
        "promedio2 = float(input('Ingresa el valor promedio de 2023: '))\n",
        "promedio3 = float(input('Ingresa el valor promedio de 2024: '))\n",
        "\n",
        "if promedio1 > promedio2 and promedio1 > promedio3:\n",
        "  print(f'2022 es el promedio mayor con {promedio1}')\n",
        "\n",
        "elif promedio2 > promedio3:\n",
        "  print(f'2023 es el promedio mayor con {promedio2}')\n",
        "\n",
        "else:\n",
        "  print(f'2024 es el promedio mayor con {promedio3}')\n",
        "\n",
        "if promedio1 < promedio2 and promedio1 < promedio3:\n",
        "  print(f'2022 es el promedio menor con {promedio1}')\n",
        "\n",
        "elif promedio2 < promedio3:\n",
        "  print(f'2023 es el promedio menor con {promedio2}')\n",
        "\n",
        "else:\n",
        "  print(f'2024 es el promedio menor con {promedio3}')\n"
      ],
      "metadata": {
        "colab": {
          "base_uri": "https://localhost:8080/"
        },
        "id": "IK2vyfCG4Gwv",
        "outputId": "cb9d28b5-50e3-4044-94ab-9c6060f0c725"
      },
      "execution_count": null,
      "outputs": [
        {
          "output_type": "stream",
          "name": "stdout",
          "text": [
            "Ingresa el valor promedio de 2022: 2\n",
            "Ingresa el valor promedio de 2023: 3\n",
            "Ingresa el valor promedio de 2024: 1\n",
            "2023 es el promedio mayor con 3.0\n",
            "2024 es el promedio menor con 1.0\n"
          ]
        }
      ]
    },
    {
      "cell_type": "markdown",
      "source": [
        "5 - Escribe un programa que pregunte sobre el precio de tres productos e indique cuál es el producto más barato para comprar."
      ],
      "metadata": {
        "id": "q8pQMJTxtuyE"
      }
    },
    {
      "cell_type": "code",
      "source": [
        "ProductoA = float(input('Ingresa el valor del producto A: '))\n",
        "ProductoB = float(input('Ingresa el valor del producto B: '))\n",
        "ProductoC = float(input('Ingresa el valor del producto C: '))\n",
        "\n",
        "z = ProductoA\n",
        "if ProductoB < z:\n",
        "  z = ProductoB\n",
        "\n",
        "if ProductoC < z:\n",
        "  z = ProductoC\n",
        "\n",
        "print (z)"
      ],
      "metadata": {
        "colab": {
          "base_uri": "https://localhost:8080/"
        },
        "id": "k0n5_vYk88ZM",
        "outputId": "1aa21144-bb60-4b6e-fb22-622137e52968"
      },
      "execution_count": null,
      "outputs": [
        {
          "output_type": "stream",
          "name": "stdout",
          "text": [
            "Ingresa el valor del producto A: 2\n",
            "Ingresa el valor del producto B: 1\n",
            "Ingresa el valor del producto C: 3\n",
            "1.0\n"
          ]
        }
      ]
    },
    {
      "cell_type": "markdown",
      "source": [
        "6 - Escribe un programa que lea tres números y los muestre en orden descendente."
      ],
      "metadata": {
        "id": "ivyeZk_dtqD8"
      }
    },
    {
      "cell_type": "code",
      "source": [
        "A = float(input('Ingresa el valor del producto A: '))\n",
        "B = float(input('Ingresa el valor del producto B: '))\n",
        "C = float(input('Ingresa el valor del producto C: '))\n",
        "\n",
        "if A >= B and A >= C:\n",
        "  if B >= C:\n",
        "    print (A, B, C)\n",
        "  else:\n",
        "    print (A,C,B)\n",
        "elif B >= A and B >= C:\n",
        "  if A >= C:\n",
        "    print(B,A,C)\n",
        "  else:\n",
        "    print(B,C,A)\n",
        "elif C >= A and C >= B:\n",
        "  if A >= B:\n",
        "    print (C,A,B)\n",
        "  else:\n",
        "    print (C,B,A)\n",
        "\n",
        "\n"
      ],
      "metadata": {
        "colab": {
          "base_uri": "https://localhost:8080/"
        },
        "id": "Z_Z4cXj9E5ZY",
        "outputId": "a58a418e-27e4-4694-cbec-a7bc31b88530"
      },
      "execution_count": null,
      "outputs": [
        {
          "output_type": "stream",
          "name": "stdout",
          "text": [
            "Ingresa el valor del producto A: 1\n",
            "Ingresa el valor del producto B: 2\n",
            "Ingresa el valor del producto C: 3\n",
            "3.0 2.0 1.0\n"
          ]
        }
      ]
    },
    {
      "cell_type": "markdown",
      "source": [
        "7 -Escribe un programa que pregunte en qué turno estudia la persona usuaria (\"mañana\", \"tarde\" o \"noche\") y muestre el mensaje \"¡Buenos Días!\", \"¡Buenas Tardes!\", \"¡Buenas Noches!\" o \"Valor Inválido!\", según el caso.\n",
        "\n"
      ],
      "metadata": {
        "id": "KjvdxTYXtewt"
      }
    },
    {
      "cell_type": "code",
      "source": [
        "from typing import no_type_check\n",
        "turno = input('¿En qué turno estudias, mañana, tarde o noche? ').lower().strip()\n",
        "\n",
        "if turno == 'mañana':\n",
        "  print('¡Buenos Días!')\n",
        "elif turno == 'tarde':\n",
        "  print('¡Buenas Tardes!')\n",
        "elif turno == 'noche':\n",
        "  print('Buenas Noches')\n",
        "else:\n",
        "  print ('no ingresaste mañana, tarde o noche')\n"
      ],
      "metadata": {
        "colab": {
          "base_uri": "https://localhost:8080/"
        },
        "id": "745gjZIyn_XR",
        "outputId": "b496051c-d087-41da-a0ad-0910c9152a9a"
      },
      "execution_count": null,
      "outputs": [
        {
          "output_type": "stream",
          "name": "stdout",
          "text": [
            "¿En qué turno estudias, mañana, tarde o noche? noche\n",
            "Buenas Noches\n"
          ]
        }
      ]
    },
    {
      "cell_type": "markdown",
      "source": [
        "8 - Escribe un programa que solicite un número entero a la persona usuaria y determine si es par o impar. Pista: Puedes usar el operador módulo (%)."
      ],
      "metadata": {
        "id": "HXSuOFKavROX"
      }
    },
    {
      "cell_type": "code",
      "source": [
        "numx = int(input ('Ingresa un número entero '))\n",
        "\n",
        "if numx % 2 == 0:\n",
        "  print('El número es par')\n",
        "else:\n",
        "  print('El número es impar')"
      ],
      "metadata": {
        "colab": {
          "base_uri": "https://localhost:8080/"
        },
        "id": "g7l6mF_wvTZ9",
        "outputId": "9837b480-2089-428d-e8ed-184c2b75996e"
      },
      "execution_count": null,
      "outputs": [
        {
          "output_type": "stream",
          "name": "stdout",
          "text": [
            "Ingresa un número entero 5\n",
            "El número es impar\n"
          ]
        }
      ]
    },
    {
      "cell_type": "markdown",
      "source": [
        "9 - Escribe un programa que pida un número a la persona usuaria y le informe si es entero o decimal."
      ],
      "metadata": {
        "id": "JInEgy6svUW7"
      }
    },
    {
      "cell_type": "code",
      "source": [
        "numw = float(input ('Ingresa un número '))\n",
        "\n",
        "if numw  % 1 == 0:\n",
        "  print('El número es entero')\n",
        "else:\n",
        "  print('El número es decimal')"
      ],
      "metadata": {
        "colab": {
          "base_uri": "https://localhost:8080/"
        },
        "id": "zFrBatAXvW63",
        "outputId": "1dbcda5d-7a2d-4060-f13f-e4a42e570544"
      },
      "execution_count": null,
      "outputs": [
        {
          "output_type": "stream",
          "name": "stdout",
          "text": [
            "Ingresa un número 1\n",
            "El número es entero\n"
          ]
        }
      ]
    },
    {
      "cell_type": "markdown",
      "source": [
        "## Momento de los proyectos\n",
        "\n"
      ],
      "metadata": {
        "id": "0fW1HAlgSGGK"
      }
    },
    {
      "cell_type": "markdown",
      "source": [
        "10 - Un programa debe ser escrito para leer dos números y luego preguntar a la persona usuaria qué operación desea realizar. El resultado de la operación debe incluir información sobre el número, si es par o impar, positivo o negativo, e entero o decimal."
      ],
      "metadata": {
        "id": "MMcuymWhSPb5"
      }
    },
    {
      "cell_type": "code",
      "source": [
        "a = float(input('Ingresa un número '))\n",
        "b = float(input('Ingresa otro un número '))\n",
        "operacion = str(input('¿Qué operación deseas realizar (sum, rest, mult, div, pot) ')).lower().strip()\n",
        "\n",
        "if operacion == 'mult':\n",
        "  result = a * b\n",
        "elif operacion == 'div':\n",
        "  result = a / b\n",
        "elif operacion == 'suma':\n",
        "  result = a + b\n",
        "elif operacion == 'resta':\n",
        "  result = a - b\n",
        "elif operacion == 'pot':\n",
        "  result = a ** b\n",
        "else:\n",
        "  print('No ingresaste una operación valida')\n",
        "\n",
        "print(f'El resultado es: {result}')\n",
        "if result % 2 == 0:\n",
        "   print('es par')\n",
        "else:\n",
        "   print('es impar')\n",
        "\n",
        "if result >= 0:\n",
        "   print('es positivo')\n",
        "else:\n",
        "   print('es negativo')\n",
        "\n",
        "if result % 1 == 0:\n",
        "   print('es entero')\n",
        "else:\n",
        "   print('es decimal')\n"
      ],
      "metadata": {
        "colab": {
          "base_uri": "https://localhost:8080/"
        },
        "id": "JoJv3e8gQQsM",
        "outputId": "31c99b1f-eb83-4268-ef99-240926cb52fd"
      },
      "execution_count": null,
      "outputs": [
        {
          "output_type": "stream",
          "name": "stdout",
          "text": [
            "Ingresa un número 5\n",
            "Ingresa otro un número 5\n",
            "¿Qué operación deseas realizar (sum, rest, mult, div, pot) pot\n",
            "El resultado es: 3125.0\n",
            "es impar\n",
            "es positivo\n",
            "es entero\n"
          ]
        }
      ]
    },
    {
      "cell_type": "markdown",
      "source": [
        "11 - Después de recolectar los valores de los 3 lados de un triángulo, debemos verificar si realmente pueden formar un triángulo siguiendo el consejo \"Tres lados forman un triángulo cuando la suma de cualquier par de lados es mayor que el tercer lado\". Esta verificación se puede realizar con el operador \"and\". Luego, podemos verificar si todos los lados son iguales, lo que forma un triángulo equilátero, o si todos los lados son diferentes, lo que forma un triángulo escaleno. Estas verificaciones se pueden realizar con el operador \"and\" y los operadores \"== y \"! =\". Finalmente, utilizamos \"else\" para el caso de un triángulo isósceles."
      ],
      "metadata": {
        "id": "cOIicbNgsufw"
      }
    },
    {
      "cell_type": "code",
      "source": [
        "co = float(input('Ingresa un valor: '))\n",
        "ca = float(input('Ingresa un valor: '))\n",
        "hip = float(input('Ingresa un valor: '))\n",
        "#cuando la suma de cualquier par de lados es mayor que el tercer lado\n",
        "if co + ca > hip and hip + co > ca and ca + hip > co:\n",
        "  #todos los lados son iguales, lo que forma un triángulo equilátero\n",
        "  if co == ca and co == hip:\n",
        "    print('El triangulo es equilatero')\n",
        "  elif co != ca and co != hip and hip != ca:\n",
        "    print('el triangulo es escaleno')\n",
        "  else:\n",
        "    print('el triangulo es isoceles')\n",
        "else:\n",
        "  print('No se puede formar un triangulo')"
      ],
      "metadata": {
        "colab": {
          "base_uri": "https://localhost:8080/"
        },
        "id": "fRFR_bsRnwPy",
        "outputId": "256ad74e-6594-4984-bf5e-e035c95fcbd0"
      },
      "execution_count": null,
      "outputs": [
        {
          "output_type": "stream",
          "name": "stdout",
          "text": [
            "Ingresa un valor: 5\n",
            "Ingresa un valor: 8\n",
            "Ingresa un valor: 8\n",
            "el triangulo es isoceles\n"
          ]
        }
      ]
    },
    {
      "cell_type": "markdown",
      "source": [
        "12 - Un establecimiento está vendiendo combustibles con descuentos variables. Para el etanol, si la cantidad comprada es de hasta 15 litros, el descuento será del 2% por litro. En caso contrario, será del 4% por litro. Para el diésel, si la cantidad comprada es de hasta 15 litros, el descuento será del 3% por litro. En caso contrario, será del 5% por litro. El precio por litro de diésel es de 2.00 y el precio por litro de etanol es de 1.70. Escribe un programa que lea la cantidad de litros vendidos y el tipo de combustible (E para etanol y D para diésel) y calcule el valor a pagar por el cliente. Ten en cuenta algunas sugerencias:\n",
        "\n",
        "\n",
        "*   El valor del descuento será el producto del precio por litro, la cantidad de litros y el valor del descuento.\n",
        "\n",
        "*   El valor a pagar por un cliente será el resultado de la multiplicación del precio por litro por la cantidad de litros menos el valor del descuento resultante del cálculo.\n",
        "\n",
        "\n"
      ],
      "metadata": {
        "id": "uwzlsWE9zjbN"
      }
    },
    {
      "cell_type": "code",
      "source": [
        "tipoComb = input('Ingresa el tipo de combustible (E o D): ').upper()\n",
        "litros = float(input('Ingresa la cantidad de litros: '))\n",
        "\n",
        "if tipoComb == 'E':\n",
        "  pxl = 1.7\n",
        "  if litros <= 15:\n",
        "    desc = 0.02\n",
        "  else:\n",
        "    desc = 0.04\n",
        "elif tipoComb == 'D':\n",
        "  pxl = 2\n",
        "  if litros <= 15:\n",
        "    desc = 0.03\n",
        "  else:\n",
        "    desc = 0.05\n",
        "else:\n",
        "  print('Ingresa un combustible valido')\n",
        "\n",
        "pago = (pxl * litros) - (pxl * litros * desc)\n",
        "print (f'El valor a pagar por el cliente es de ${pago}')\n"
      ],
      "metadata": {
        "colab": {
          "base_uri": "https://localhost:8080/"
        },
        "id": "9cnDp7XYzr6v",
        "outputId": "b70169fc-ed1a-408d-fc1c-ce295fdd2a33"
      },
      "execution_count": null,
      "outputs": [
        {
          "output_type": "stream",
          "name": "stdout",
          "text": [
            "Ingresa el tipo de combustible (E o D): d\n",
            "Ingresa la cantidad de litros: 60\n",
            "El valor a pagar por el cliente es de $114.0\n"
          ]
        }
      ]
    },
    {
      "cell_type": "markdown",
      "source": [
        "13 - En una empresa de venta de bienes raíces, debes crear un código que analice los datos de ventas anuales para ayudar a la dirección en la toma de decisiones. El código debe recopilar los datos de cantidad de ventas durante los años 2022 y 2023 y calcular la variación porcentual. A partir del valor de la variación, se deben proporcionar las siguientes sugerencias:\n",
        "*   Para una variación superior al 20%: bonificación para el equipo de ventas.\n",
        "*   Para una variación entre el 2% y el 20%: pequeña bonificación para el equipo de ventas.\n",
        "*   Para una variación entre el 2% y el -10%: planificación de políticas de incentivo a las ventas.\n",
        "* Para bonificaciones inferiores al -10%: recorte de gastos."
      ],
      "metadata": {
        "id": "klGWIQzVHD-D"
      }
    },
    {
      "cell_type": "code",
      "source": [
        "va2022 = float(input ('Ingrese el total de ventas anuales de 2022: '))\n",
        "va2023 = float(input ('Ingrese el total de ventas anuales de 2023: '))\n",
        "\n",
        "vp = ((va2023 - va2022) / va2022) * 100\n",
        "\n",
        "if vp > 20:\n",
        "  print ('bonificación para el equipo de ventas.')\n",
        "elif 2 <= vp <= 20:\n",
        "  print ('pequeña bonificación para el equipo de ventas.')\n",
        "elif -10 <= vp < 2:\n",
        "  print ('planificación de políticas de incentivo a las ventas.')\n",
        "else:\n",
        "  print('recorte de gastos.')\n"
      ],
      "metadata": {
        "colab": {
          "base_uri": "https://localhost:8080/"
        },
        "id": "krP-uWIWHhX0",
        "outputId": "aaae4db7-987a-4012-8ecf-e3c5a6fb0c49"
      },
      "execution_count": null,
      "outputs": [
        {
          "output_type": "stream",
          "name": "stdout",
          "text": [
            "Ingrese el total de ventas anuales de 2022: 10\n",
            "Ingrese el total de ventas anuales de 2023: 10\n",
            "planificación de políticas de incentivo a las ventas.\n"
          ]
        }
      ]
    },
    {
      "cell_type": "code",
      "source": [
        "precio = 2.00\n",
        "precio += 3\n",
        "print(precio)\n"
      ],
      "metadata": {
        "colab": {
          "base_uri": "https://localhost:8080/"
        },
        "id": "a9OGijDULE0i",
        "outputId": "e5d1f00e-5c04-446b-ab2c-975d3dd3da81"
      },
      "execution_count": null,
      "outputs": [
        {
          "output_type": "stream",
          "name": "stdout",
          "text": [
            "5.0\n"
          ]
        }
      ]
    },
    {
      "cell_type": "code",
      "source": [
        "precio = 6.00\n",
        "precio //= 3\n",
        "print(precio)"
      ],
      "metadata": {
        "colab": {
          "base_uri": "https://localhost:8080/"
        },
        "id": "wp8Pc8TOOWm_",
        "outputId": "ee9b24cd-0331-49fa-cdd3-4ea101cf86a6"
      },
      "execution_count": null,
      "outputs": [
        {
          "output_type": "stream",
          "name": "stdout",
          "text": [
            "2.0\n"
          ]
        }
      ]
    },
    {
      "cell_type": "code",
      "source": [
        "for i in range(1, 6):\n",
        "    if i == 4:\n",
        "        continue\n",
        "    print(i)"
      ],
      "metadata": {
        "colab": {
          "base_uri": "https://localhost:8080/"
        },
        "id": "H8PmZXEHPHH2",
        "outputId": "57e8c7d9-84d3-4de4-a039-30faf05ff425"
      },
      "execution_count": null,
      "outputs": [
        {
          "output_type": "stream",
          "name": "stdout",
          "text": [
            "1\n",
            "2\n",
            "3\n",
            "5\n"
          ]
        }
      ]
    },
    {
      "cell_type": "code",
      "source": [
        "for i in range(1, 6):\n",
        "    if i == 4:\n",
        "        break\n",
        "    print(i)"
      ],
      "metadata": {
        "colab": {
          "base_uri": "https://localhost:8080/"
        },
        "id": "nvAX5MjmW1Hr",
        "outputId": "8efcac18-34c7-4782-83d9-ead81bc5e8b2"
      },
      "execution_count": null,
      "outputs": [
        {
          "output_type": "stream",
          "name": "stdout",
          "text": [
            "1\n",
            "2\n",
            "3\n"
          ]
        }
      ]
    },
    {
      "cell_type": "markdown",
      "source": [
        "# Entrenando la programación"
      ],
      "metadata": {
        "id": "DDwaiMvqEYvE"
      }
    },
    {
      "cell_type": "markdown",
      "source": [
        "1 - Escribe un programa que solicite dos números enteros e imprima todos los números enteros entre ellos."
      ],
      "metadata": {
        "id": "8MhMuEgHElRM"
      }
    },
    {
      "cell_type": "code",
      "source": [
        "numero1 = int(input('ingresa un valor: '))\n",
        "numero2 = int(input('ingresa un segundo valor: '))\n",
        "\n",
        "if numero1 > numero2:\n",
        "  for n in range(numero2, numero1 + 1):\n",
        "    print(n)\n",
        "\n",
        "elif numero2 > numero1:\n",
        "  for n in range(numero1, numero2 + 1):\n",
        "    print(n)\n",
        "\n",
        "else:\n",
        "  print('No se puede generar una escala')\n"
      ],
      "metadata": {
        "id": "MJWf6vSLFWHE",
        "outputId": "5072d76a-a5df-4e25-83fe-a5f990b2ffdd",
        "colab": {
          "base_uri": "https://localhost:8080/"
        }
      },
      "execution_count": null,
      "outputs": [
        {
          "output_type": "stream",
          "name": "stdout",
          "text": [
            "ingresa un valor: 10\n",
            "ingresa un segundo valor: 10\n",
            "No se puede generar una escala\n"
          ]
        }
      ]
    },
    {
      "cell_type": "markdown",
      "source": [
        "2 - Escribe un programa para calcular cuántos días tomará que la colonia de una bacteria A supere o iguale a la colonia de una bacteria B, basado en tasas de crecimiento del 3% y 1.5%, respectivamente. Supón que la colonia A comienza con 4 elementos y B con 10."
      ],
      "metadata": {
        "id": "uSIKH6iXEuA0"
      }
    },
    {
      "cell_type": "code",
      "source": [
        "bacteriaA = 4\n",
        "bacteriaB = 10\n",
        "contador = 0\n",
        "while bacteriaA <= bacteriaB:\n",
        "  bacteriaA *= 1 + 0.03\n",
        "  bacteriaB *= 1 + 0.015\n",
        "  contador += 1\n",
        "\n",
        "print(f'La bacteria A supera o iguala a la bacteria B en {contador} días')"
      ],
      "metadata": {
        "id": "JQHD4DOFFWlO",
        "outputId": "1809d8cd-c917-4d10-8b80-987b204c685f",
        "colab": {
          "base_uri": "https://localhost:8080/"
        }
      },
      "execution_count": null,
      "outputs": [
        {
          "output_type": "stream",
          "name": "stdout",
          "text": [
            "La bacteria A supera o iguala a la bacteria B en 63 días\n"
          ]
        }
      ]
    },
    {
      "cell_type": "markdown",
      "source": [
        "3 - Para procesar una cantidad de 15 datos de evaluaciones de usuarios de un servicio de la empresa, necesitamos verificar si las calificaciones son válidas. Por lo tanto, escribe un programa que recibirá calificaciones del 0 al 5 y verificará si son valores válidos. Si se ingresa una calificación superior a 5 o inferior a 0, se repetirá hasta que el usuario ingrese un valor válido."
      ],
      "metadata": {
        "id": "_8uN4s6jEt4M"
      }
    },
    {
      "cell_type": "code",
      "source": [
        "for i in range(15):\n",
        "  nota = float(input(f'Ingrese la nota del usuario {i}: '))\n",
        "\n",
        "  while (nota < 0 ) or (nota > 5 ):\n",
        "    nota = float( input(f'Nota no valida, ingresa nuevamente la nota del usuario: '))\n",
        "\n",
        "print('Verificación completa. Todas las notas son validas.')\n"
      ],
      "metadata": {
        "id": "EOfQJAVmFXCc",
        "outputId": "dadf0d34-5b10-4607-c33b-04694f0aae7b",
        "colab": {
          "base_uri": "https://localhost:8080/"
        }
      },
      "execution_count": null,
      "outputs": [
        {
          "output_type": "stream",
          "name": "stdout",
          "text": [
            "Ingrese la nota del usuario 0: 1\n",
            "Ingrese la nota del usuario 1: 2\n",
            "Ingrese la nota del usuario 2: 3\n",
            "Ingrese la nota del usuario 3: 4\n",
            "Ingrese la nota del usuario 4: 5\n",
            "Ingrese la nota del usuario 5: 6\n",
            "Nota no valida, ingresa nuevamente la nota del usuario: 1\n",
            "Ingrese la nota del usuario 6: 2\n",
            "Ingrese la nota del usuario 7: 3\n",
            "Ingrese la nota del usuario 8: 4\n",
            "Ingrese la nota del usuario 9: 5\n",
            "Ingrese la nota del usuario 10: 6\n",
            "Nota no valida, ingresa nuevamente la nota del usuario: 7\n",
            "Nota no valida, ingresa nuevamente la nota del usuario: 8\n",
            "Nota no valida, ingresa nuevamente la nota del usuario: 9\n",
            "Nota no valida, ingresa nuevamente la nota del usuario: 1\n",
            "Ingrese la nota del usuario 11: 2\n",
            "Ingrese la nota del usuario 12: 3\n",
            "Ingrese la nota del usuario 13: 4\n",
            "Ingrese la nota del usuario 14: 5\n",
            "Verificación completa. Todas las notas son validas.\n"
          ]
        }
      ]
    },
    {
      "cell_type": "markdown",
      "source": [
        "4 - Desarrolla un programa que lea un conjunto indefinido de temperaturas en grados Celsius y calcule su promedio. La lectura debe detenerse al ingresar el valor -273°C."
      ],
      "metadata": {
        "id": "1bXp9LGjEtvk"
      }
    },
    {
      "cell_type": "code",
      "source": [
        "temp = float(input('Ingresa el valor de la temperatura en °C: '))\n",
        "contador = 0\n",
        "suma = 0\n",
        "\n",
        "while temp != -273:\n",
        "  contador += 1\n",
        "  suma += temp\n",
        "  temp = float(input('Ingresa el valor de la temperatura en °C: '))\n",
        "\n",
        "\n",
        "prom = suma / contador\n",
        "\n",
        "print(f'El promedio de las temperaturas es: {prom}')"
      ],
      "metadata": {
        "id": "DOYViF43FXx0",
        "outputId": "8739b902-467e-48ee-e7d7-aad9f30a28e7",
        "colab": {
          "base_uri": "https://localhost:8080/"
        }
      },
      "execution_count": null,
      "outputs": [
        {
          "output_type": "stream",
          "name": "stdout",
          "text": [
            "Ingresa el valor de la temperatura en °C: 5\n",
            "Ingresa el valor de la temperatura en °C: 10\n",
            "Ingresa el valor de la temperatura en °C: 15\n",
            "Ingresa el valor de la temperatura en °C: 20\n",
            "Ingresa el valor de la temperatura en °C: -273\n",
            "El promedio de las temperaturas es: 12.5\n"
          ]
        }
      ]
    },
    {
      "cell_type": "markdown",
      "source": [
        "5 - Escribe un programa que calcule el factorial de un número entero proporcionado por el usuario. Recuerda que el factorial de un número entero es el producto de ese número por todos sus antecesores hasta llegar al número 1. Por ejemplo, el factorial de 5 es 5 x 4 x 3 x 2 x 1 = 120."
      ],
      "metadata": {
        "id": "W0qXuQiWEtnM"
      }
    },
    {
      "cell_type": "code",
      "source": [
        "fact = int(input('Ingresa el valor de la factorial: '))\n",
        "contador = 1\n",
        "\n",
        "i = fact\n",
        "while i > 0:\n",
        "  contador *= i\n",
        "  i -= 1\n",
        "\n",
        "print(f'El valor de la factorial de {fact} es: {contador}')"
      ],
      "metadata": {
        "id": "FMRNwHNLFYRN",
        "outputId": "651b684b-aa01-43aa-9ee2-3dc3a14dd0a9",
        "colab": {
          "base_uri": "https://localhost:8080/"
        }
      },
      "execution_count": null,
      "outputs": [
        {
          "output_type": "stream",
          "name": "stdout",
          "text": [
            "Ingresa el valor de la factorial: 3\n",
            "El valor de la factorial de 3 es: 6\n"
          ]
        }
      ]
    },
    {
      "cell_type": "markdown",
      "source": [
        "## Momento de los proyectos"
      ],
      "metadata": {
        "id": "3ynpimnyEtdk"
      }
    },
    {
      "cell_type": "markdown",
      "source": [
        "6 - Escribe un programa que genere la tabla de multiplicar de un número entero del 1 al 10, según la elección del usuario. Como ejemplo, para el número 2, la tabla de multiplicar debe mostrarse en el siguiente formato:"
      ],
      "metadata": {
        "id": "ucKf8erOEtSV"
      }
    },
    {
      "cell_type": "code",
      "source": [
        "tabla = int(input('¿Qué tabla de multiplicar del 1 al 10 quieres? '))\n",
        "\n",
        "while (tabla < 0 ) or (tabla > 10 ):\n",
        "  tabla = int( input(f'Tabla no valida, ingresa un valor entre 1 y 10: '))\n",
        "\n",
        "for n in range(1,11):\n",
        "  mult = n * tabla\n",
        "  print(f'{tabla} X {n} = {mult}')\n"
      ],
      "metadata": {
        "id": "6XNPelbGFZEk",
        "outputId": "85812358-a13f-4aa6-ac66-2640a62a59d1",
        "colab": {
          "base_uri": "https://localhost:8080/"
        }
      },
      "execution_count": null,
      "outputs": [
        {
          "output_type": "stream",
          "name": "stdout",
          "text": [
            "¿Qué tabla de multiplicar del 1 al 10 quieres? 11\n",
            "Tabla no valida, ingresa un valor entre 1 y 10: 5\n",
            "5 X 1 = 5\n",
            "5 X 2 = 10\n",
            "5 X 3 = 15\n",
            "5 X 4 = 20\n",
            "5 X 5 = 25\n",
            "5 X 6 = 30\n",
            "5 X 7 = 35\n",
            "5 X 8 = 40\n",
            "5 X 9 = 45\n",
            "5 X 10 = 50\n"
          ]
        }
      ]
    },
    {
      "cell_type": "markdown",
      "source": [
        "7 - Los números primos tienen diversas aplicaciones en Ciencia de Datos, como en criptografía y seguridad. Un número primo es aquel que es divisible solo por sí mismo y por 1. Por lo tanto, crea un programa que solicite un número entero y determine si es un número primo o no."
      ],
      "metadata": {
        "id": "w0lYvAW5EtAV"
      }
    },
    {
      "cell_type": "code",
      "source": [
        "# Recopilamos el número\n",
        "num = int(input('Ingresa un número entero: '))\n",
        "\n",
        "# Los números enteros iguales o menores que 1 no se consideran primos\n",
        "if num > 1:\n",
        "    for i in range(2, num):\n",
        "        # Verificamos todos los residuos de la división entre todos los números menores que num\n",
        "        # Si algún residuo es 0, significa que es divisible por otro número además de sí mismo y 1\n",
        "        if (num % i) == 0:\n",
        "            print(f'{num} no es un número primo')\n",
        "            break\n",
        "    else:\n",
        "        print(f'{num} es un número primo')\n",
        "else:\n",
        "    print(f'{num} no es un número primo')\n"
      ],
      "metadata": {
        "id": "YF4PR3dUFZkN",
        "outputId": "5df592ca-24cf-46fb-bb53-a252114d5251",
        "colab": {
          "base_uri": "https://localhost:8080/"
        }
      },
      "execution_count": null,
      "outputs": [
        {
          "output_type": "stream",
          "name": "stdout",
          "text": [
            "Ingresa un número entero: 5\n",
            "5 es un número primo\n"
          ]
        }
      ]
    },
    {
      "cell_type": "markdown",
      "source": [
        "8 - Vamos a comprender la distribución de edades de los pensionistas de una empresa de seguros. Escribe un programa que lea las edades de una cantidad no informada de clientes y muestre la distribución en los intervalos [0-25], [26-50], [51-75] y [76-100]. La entrada de datos se detendrá al ingresar un número negativo."
      ],
      "metadata": {
        "id": "J0SHAsrGFCll"
      }
    },
    {
      "cell_type": "code",
      "source": [
        "# Recopilamos las edades de los clientes\n",
        "edad = int(input('Ingresa la edad (o un número negativo para finalizar): '))\n",
        "\n",
        "# Inicializamos las variables de conteo\n",
        "contador_0_25 = 0 # contador de edades entre 0 y 25\n",
        "contador_26_50 = 0 # contador de edades entre 26 y 50\n",
        "contador_51_75 = 0 # contador de edades entre 51 y 75\n",
        "contador_76_100 = 0 # contador de edades entre 76 y 100\n",
        "\n",
        "# Nuestro código se ejecuta hasta que el valor de edad sea negativo\n",
        "while edad >= 0:\n",
        "    # Contamos cada caso\n",
        "    if edad >= 0 and edad <= 25:\n",
        "        contador_0_25 += 1\n",
        "    elif edad >= 26 and edad <= 50:\n",
        "        contador_26_50 += 1\n",
        "    elif edad >= 51 and edad <= 75:\n",
        "        contador_51_75 += 1\n",
        "    elif edad >= 76 and edad <= 100:\n",
        "        contador_76_100 += 1\n",
        "\n",
        "    # Repetimos el proceso de entrada de datos hasta que se ingrese un número negativo\n",
        "    edad = int(input('Ingresa la edad (o un número negativo para finalizar): '))\n",
        "\n",
        "# Mostramos los resultados\n",
        "print('Distribución de edades:')\n",
        "print('[0-25]:', contador_0_25)\n",
        "print('[26-50]:', contador_26_50)\n",
        "print('[51-75]:', contador_51_75)\n",
        "print('[76-100]:', contador_76_100)"
      ],
      "metadata": {
        "id": "CcybixCkFaR1",
        "outputId": "5ca9ef11-80a4-474c-cdce-355a759bdadf",
        "colab": {
          "base_uri": "https://localhost:8080/"
        }
      },
      "execution_count": null,
      "outputs": [
        {
          "output_type": "stream",
          "name": "stdout",
          "text": [
            "Ingresa la edad (o un número negativo para finalizar): 57\n",
            "Ingresa la edad (o un número negativo para finalizar): 85\n",
            "Ingresa la edad (o un número negativo para finalizar): 47\n",
            "Ingresa la edad (o un número negativo para finalizar): 45\n",
            "Ingresa la edad (o un número negativo para finalizar): 12\n",
            "Ingresa la edad (o un número negativo para finalizar): 45\n",
            "Ingresa la edad (o un número negativo para finalizar): 68\n",
            "Ingresa la edad (o un número negativo para finalizar): 58\n",
            "Ingresa la edad (o un número negativo para finalizar): 89\n",
            "Ingresa la edad (o un número negativo para finalizar): 64\n",
            "Ingresa la edad (o un número negativo para finalizar): 100\n",
            "Ingresa la edad (o un número negativo para finalizar): -1\n",
            "Distribución de edades:\n",
            "[0-25]: 1\n",
            "[26-50]: 3\n",
            "[51-75]: 4\n",
            "[76-100]: 3\n"
          ]
        }
      ]
    },
    {
      "cell_type": "markdown",
      "source": [
        "9 - En una elección para la gerencia de una empresa con 20 empleados, hay cuatro candidatos. Escribe un programa que calcule al ganador de la elección. La votación se realizó de la siguiente manera:\n",
        "Cada empleado votó por uno de los cuatro candidatos (representados por los números 1, 2, 3 y 4).\n",
        "\n",
        "También se contaron los votos nulos (representados por el número 5) y los votos en blanco (representados por el número 6).\n",
        "\n",
        "Al final de la votación, el programa debe mostrar el número total de votos para cada candidato, los votos nulos y los votos en blanco. Además, debe calcular y mostrar el porcentaje de votos nulos con respecto al total de votos y el porcentaje de votos en blanco con respecto al total de votos."
      ],
      "metadata": {
        "id": "riFsoQswFCdg"
      }
    },
    {
      "cell_type": "code",
      "source": [
        "# Inicializamos las variables contadoras\n",
        "votos_candidato1 = 0\n",
        "votos_candidato2 = 0\n",
        "votos_candidato3 = 0\n",
        "votos_candidato4 = 0\n",
        "votos_nulos = 0\n",
        "votos_blanco = 0\n",
        "\n",
        "# Inicio del bucle para leer los votos\n",
        "for i in range(0, 20):\n",
        "    voto = int(input('Ingresa tu voto: '))\n",
        "    if voto == 1:\n",
        "        votos_candidato1 += 1\n",
        "    elif voto == 2:\n",
        "        votos_candidato2 += 1\n",
        "    elif voto == 3:\n",
        "        votos_candidato3 += 1\n",
        "    elif voto == 4:\n",
        "        votos_candidato4 += 1\n",
        "    elif voto == 5:\n",
        "        votos_nulos += 1\n",
        "    elif voto == 6:\n",
        "        votos_blanco += 1\n",
        "    else:\n",
        "        print(\"Voto inválido.\")\n",
        "\n",
        "print(f'Votos candidato 1: {votos_candidato1}')\n",
        "print(f'Votos candidato 2: {votos_candidato2}')\n",
        "print(f'Votos candidato 3: {votos_candidato3}')\n",
        "print(f'Votos candidato 4: {votos_candidato4}')\n",
        "print(f'Votos nulos: {votos_nulos}')\n",
        "print(f'Votos en blanco: {votos_blanco}')\n",
        "print(f'Porcentaje de votos nulos: {(votos_nulos / 20 * 100)}')\n",
        "print(f'Porcentaje de votos en blanco: {(votos_blanco / 20 * 100)}')"
      ],
      "metadata": {
        "id": "BnRrx8yVFbKO",
        "outputId": "42bd35b6-2f3c-4534-abef-5efdea6fff94",
        "colab": {
          "base_uri": "https://localhost:8080/"
        }
      },
      "execution_count": null,
      "outputs": [
        {
          "output_type": "stream",
          "name": "stdout",
          "text": [
            "Ingresa tu voto: 1\n",
            "Ingresa tu voto: 2\n",
            "Ingresa tu voto: 3\n",
            "Ingresa tu voto: 4\n",
            "Ingresa tu voto: 5\n",
            "Ingresa tu voto: 6\n",
            "Ingresa tu voto: 5\n",
            "Ingresa tu voto: 4\n",
            "Ingresa tu voto: 3\n",
            "Ingresa tu voto: 2\n",
            "Ingresa tu voto: 1\n",
            "Ingresa tu voto: 4\n",
            "Ingresa tu voto: 5\n",
            "Ingresa tu voto: 7\n",
            "Voto inválido.\n",
            "Ingresa tu voto: 5\n",
            "Ingresa tu voto: 4\n",
            "Ingresa tu voto: 7\n",
            "Voto inválido.\n",
            "Ingresa tu voto: 8\n",
            "Voto inválido.\n",
            "Ingresa tu voto: 9\n",
            "Voto inválido.\n",
            "Ingresa tu voto: 1\n",
            "Votos candidato 1: 3\n",
            "Votos candidato 2: 2\n",
            "Votos candidato 3: 2\n",
            "Votos candidato 4: 4\n",
            "Votos nulos: 4\n",
            "Votos en blanco: 1\n",
            "Porcentaje de votos nulos: 20.0\n",
            "Porcentaje de votos en blanco: 5.0\n"
          ]
        }
      ]
    },
    {
      "cell_type": "markdown",
      "source": [
        "# Entrenando la programación"
      ],
      "metadata": {
        "id": "qXoUo4NYMigO"
      }
    },
    {
      "cell_type": "markdown",
      "source": [
        "1 - Crea un programa que tenga la siguiente lista con los gastos de una empresa de papel [2172.54, 3701.35, 3518.09, 3456.61, 3249.38, 2840.82, 3891.45, 3075.26, 2317.64, 3219.08]. Con estos valores, crea un programa que calcule el promedio de gastos. Sugerencia: usa las funciones integradas sum() y len()."
      ],
      "metadata": {
        "id": "vft0xH39Mqee"
      }
    },
    {
      "cell_type": "code",
      "source": [
        "gastos = [2172.54, 3701.35, 3518.09, 3456.61, 3249.38, 2840.82, 3891.45, 3075.26, 2317.64, 3219.08]\n",
        "\n",
        "suma_gastos = sum (gastos)\n",
        "total_gastos = len(gastos)\n",
        "\n",
        "promedio_gastos = suma_gastos / total_gastos\n",
        "\n",
        "promedio_gastos\n"
      ],
      "metadata": {
        "id": "XaIRoP4vf6bM",
        "outputId": "51362cf2-fdd1-44dd-fcbd-fd5e8cbcd8b6",
        "colab": {
          "base_uri": "https://localhost:8080/"
        }
      },
      "execution_count": null,
      "outputs": [
        {
          "output_type": "execute_result",
          "data": {
            "text/plain": [
              "3144.222"
            ]
          },
          "metadata": {},
          "execution_count": 2
        }
      ]
    },
    {
      "cell_type": "markdown",
      "source": [
        "2 - Con los mismos datos de la pregunta anterior, determina cuántas compras se realizaron por encima de 3000 reales y calcula el porcentaje con respecto al total de compras."
      ],
      "metadata": {
        "id": "TzbfJgp8OICm"
      }
    },
    {
      "cell_type": "code",
      "source": [
        "encima_30000 = 0\n",
        "for e in gastos:\n",
        "  if e > 3000:\n",
        "    encima_30000 += 1\n",
        "\n",
        "porcentaje = (encima_30000 / total_gastos ) * 100\n",
        "print(encima_30000)\n",
        "porcentaje"
      ],
      "metadata": {
        "id": "FKrSBTunNUxT",
        "outputId": "6dab91aa-0a9b-4ce9-df2f-928fd7f4f8e4",
        "colab": {
          "base_uri": "https://localhost:8080/"
        }
      },
      "execution_count": null,
      "outputs": [
        {
          "output_type": "stream",
          "name": "stdout",
          "text": [
            "7\n"
          ]
        },
        {
          "output_type": "execute_result",
          "data": {
            "text/plain": [
              "70.0"
            ]
          },
          "metadata": {},
          "execution_count": 9
        }
      ]
    },
    {
      "cell_type": "markdown",
      "source": [
        "3 - Crea un código que recoja en una lista 5 números enteros aleatorios e imprima la lista. Ejemplo: [1, 4, 7, 2, 4]."
      ],
      "metadata": {
        "id": "_CeAQH0fS6w3"
      }
    },
    {
      "cell_type": "code",
      "source": [
        "\n",
        "lista_5 = []\n",
        "contador = 5\n",
        "\n",
        "while contador > 0:\n",
        "  n = int(input('Ingresa un valor: '))\n",
        "  lista_5.append(n)\n",
        "  contador -= 1\n",
        "\n",
        "print (f'lista = {lista_5}')\n",
        "\n"
      ],
      "metadata": {
        "id": "bk1sUG10RXM3",
        "outputId": "f354ecfc-59f0-4660-d693-603ce20c2846",
        "colab": {
          "base_uri": "https://localhost:8080/"
        }
      },
      "execution_count": null,
      "outputs": [
        {
          "output_type": "stream",
          "name": "stdout",
          "text": [
            "Ingresa un valor: 1\n",
            "Ingresa un valor: 4\n",
            "Ingresa un valor: 7\n",
            "Ingresa un valor: 2\n",
            "Ingresa un valor: 4\n",
            "lista = [1, 4, 7, 2, 4]\n"
          ]
        }
      ]
    },
    {
      "cell_type": "markdown",
      "source": [
        "4 - Recoge nuevamente 5 números enteros e imprime la lista en orden inverso al enviado."
      ],
      "metadata": {
        "id": "eSLiDgqkVPOJ"
      }
    },
    {
      "cell_type": "code",
      "source": [
        "lista_51 = []\n",
        "\n",
        "for i in range(0, 5):\n",
        "  valor = int(input('Ingresa un valor: '))\n",
        "  lista_51.append(valor)\n",
        "\n",
        "print (f'lista = {lista_51[::-1]}')"
      ],
      "metadata": {
        "id": "6i9BQGo5UJTi",
        "outputId": "9fa91969-e783-4359-e99d-d533ead2c98b",
        "colab": {
          "base_uri": "https://localhost:8080/"
        }
      },
      "execution_count": null,
      "outputs": [
        {
          "output_type": "stream",
          "name": "stdout",
          "text": [
            "Ingresa un valor: 1\n",
            "Ingresa un valor: 4\n",
            "Ingresa un valor: 7\n",
            "Ingresa un valor: 2\n",
            "Ingresa un valor: 4\n",
            "lista = [4, 2, 7, 4, 1]\n"
          ]
        }
      ]
    },
    {
      "cell_type": "markdown",
      "source": [
        "5 - Crea un programa que, al ingresar un número cualquiera, genere una lista que contenga todos los números primos entre 1 y el número ingresado."
      ],
      "metadata": {
        "id": "ZhmWYlBXY7qF"
      }
    },
    {
      "cell_type": "code",
      "source": [
        "# Recopilamos el número\n",
        "numero = int(input('Ingresa un número entero: '))\n",
        "# Lista para almacenar los números primos\n",
        "lista_primos = []\n",
        "# Bucle que recorre todos los números por debajo del número ingresado\n",
        "for num in range(2, numero):\n",
        "  # Primo es una bandera que nos permite saber si el valor analizado\n",
        "  # es primo o no.\n",
        "  primo = True\n",
        "  # Probamos si todos los números por debajo del especificado\n",
        "  # en el primer bucle pueden dar una división exacta.\n",
        "  for prueba_divisibles in range(2, num):\n",
        "    if num % prueba_divisibles == 0:\n",
        "      # Si es divisible por algún número, entendemos que el número\n",
        "      # no es primo y terminamos el bucle interno con break.\n",
        "      primo = False\n",
        "      break\n",
        "  # La condición se convierte en el resultado booleano de primo: False. Ignoramos la condición True y ejecutamos el bloque del if.\n",
        "  if primo:\n",
        "    lista_primos.append(num)\n",
        "# Resultado\n",
        "print(f'Lista de números primos: {lista_primos}')\n",
        "\n"
      ],
      "metadata": {
        "id": "5N9D8V8_Xqcm",
        "outputId": "f57d8532-f3a4-4e55-8db2-883bf9ad4051",
        "colab": {
          "base_uri": "https://localhost:8080/"
        }
      },
      "execution_count": null,
      "outputs": [
        {
          "output_type": "stream",
          "name": "stdout",
          "text": [
            "Ingresa un número entero: 10\n",
            "Lista de números primos: [2, 3, 5, 7]\n"
          ]
        }
      ]
    },
    {
      "cell_type": "markdown",
      "source": [
        "6 - Escribe un programa que pida una fecha, especificando el día, mes y año, y determine si es válida para su análisis."
      ],
      "metadata": {
        "id": "6Zpmn6wXcAiW"
      }
    },
    {
      "cell_type": "code",
      "source": [
        "# Recopilamos la fecha\n",
        "dia = int(input('Ingrese el día: '))\n",
        "mes = int(input('Ingrese el mes: '))\n",
        "año = int(input('Ingrese el año: '))\n",
        "\n",
        "# Análisis de febrero\n",
        "if mes == 2:\n",
        "  # Verificamos si es o no un año bisiesto\n",
        "  if año % 4 == 0 and (año % 400 == 0 or año % 100 != 0):\n",
        "    dias_febrero = 29\n",
        "  else:\n",
        "    dias_febrero = 28\n",
        "  # Verificamos si el día ingresado coincide con el máximo de días de febrero\n",
        "  if dia >= 1 and dia <= dias_febrero:\n",
        "    print('Fecha válida')\n",
        "  else:\n",
        "    print('Fecha inválida')\n",
        "# Verificamos meses que terminan en 31 días\n",
        "elif mes in [1, 3, 5, 7, 8, 10, 12]:\n",
        "  if dia >= 1 and dia <= 31:\n",
        "    print('Fecha válida')\n",
        "  else:\n",
        "    print('Fecha inválida')\n",
        "# Verificamos meses que terminan en 30 días\n",
        "elif mes in [4, 6, 9, 11]:\n",
        "  if dia >= 1 and dia <= 30:\n",
        "    print('Fecha válida')\n",
        "  else:\n",
        "    print('Fecha inválida')\n",
        "# Si el mes no está entre 1 y 12\n",
        "else:\n",
        "  print('Fecha inválida')"
      ],
      "metadata": {
        "id": "WlxBWkFHcBTb",
        "outputId": "fd2ef6b9-b0f6-4d97-fdb3-d12d68eaaf50",
        "colab": {
          "base_uri": "https://localhost:8080/"
        }
      },
      "execution_count": null,
      "outputs": [
        {
          "output_type": "stream",
          "name": "stdout",
          "text": [
            "Ingrese el día: 31\n",
            "Ingrese el mes: 4\n",
            "Ingrese el año: 2025\n",
            "Fecha inválida\n"
          ]
        }
      ]
    },
    {
      "cell_type": "markdown",
      "source": [
        "## Momento para los proyectos"
      ],
      "metadata": {
        "id": "deXpLlF-c__A"
      }
    },
    {
      "cell_type": "markdown",
      "source": [
        "7 - Para un estudio sobre la multiplicación de bacterias en una colonia, se recopiló el número de bacterias multiplicadas por día y se puede observar a continuación: [1.2, 2.1, 3.3, 5.0, 7.8, 11.3, 16.6, 25.1, 37.8, 56.9]. Con estos valores, crea un código que genere una lista que contenga el porcentaje de crecimiento de bacterias por día, comparando el número de bacterias en cada día con el número de bacterias del día anterior. Sugerencia: para calcular el porcentaje de crecimiento, utiliza la siguiente ecuación: 100 * (muestra_actual - muestra_anterior) / muestra_anterior."
      ],
      "metadata": {
        "id": "T-HgD2oMdRcn"
      }
    },
    {
      "cell_type": "code",
      "source": [
        "bacterias_x_dia = [1.2, 2.1, 3.3, 5.0, 7.8, 11.3, 16.6, 25.1, 37.8, 56.9]\n",
        "porcentaje_crecimiento = []\n",
        "\n",
        "for b in range(1, len(bacterias_x_dia)):\n",
        "  porcentaje = 100 * (bacterias_x_dia[b] - bacterias_x_dia[b-1]) / bacterias_x_dia[b-1]\n",
        "\n",
        "  porcentaje_crecimiento.append(porcentaje)\n",
        "\n",
        "print (f'Porcentaje de crecimiento:\\n{porcentaje_crecimiento}')\n"
      ],
      "metadata": {
        "id": "EWr7z7vsc6_5",
        "outputId": "c21d3afe-50e5-439b-f959-0ab2c7ca6b47",
        "colab": {
          "base_uri": "https://localhost:8080/"
        }
      },
      "execution_count": null,
      "outputs": [
        {
          "output_type": "stream",
          "name": "stdout",
          "text": [
            "Porcentaje de crecimiento:\n",
            "[75.00000000000001, 57.142857142857125, 51.51515151515153, 56.0, 44.87179487179489, 46.90265486725664, 51.20481927710843, 50.59760956175297, 50.52910052910054]\n"
          ]
        }
      ]
    },
    {
      "cell_type": "markdown",
      "source": [
        "8 - Para una selección de productos alimenticios, debemos separar el conjunto de IDs proporcionados por números enteros, sabiendo que los productos con ID par son dulces y los que tienen ID impar son amargos. Crea un código que recoja 10 IDs. Luego, calcula y muestra la cantidad de productos dulces y amargos."
      ],
      "metadata": {
        "id": "6mUsJqKYuxcm"
      }
    },
    {
      "cell_type": "code",
      "source": [
        "id_pares = []\n",
        "id_nones = []\n",
        "\n",
        "for id in range(1, 11):\n",
        "  ids = int(input('Ingresa el Id del producto: '))\n",
        "  if ids % 2 == 0:\n",
        "    id_pares.append(ids)\n",
        "  else:\n",
        "    id_nones.append(ids)\n",
        "\n",
        "print(f'El número de Id´s dulce = {len(id_pares)}')\n",
        "print(f'El número de Id´s amargo = {len(id_nones)}')"
      ],
      "metadata": {
        "id": "AG5j6QSos7ZH",
        "outputId": "41b282fb-da31-44cf-82a0-c64a1a089c22",
        "colab": {
          "base_uri": "https://localhost:8080/"
        }
      },
      "execution_count": null,
      "outputs": [
        {
          "output_type": "stream",
          "name": "stdout",
          "text": [
            "Ingresa el Id del producto: 1\n",
            "Ingresa el Id del producto: 2\n",
            "Ingresa el Id del producto: 3\n",
            "Ingresa el Id del producto: 4\n",
            "Ingresa el Id del producto: 5\n",
            "Ingresa el Id del producto: 6\n",
            "Ingresa el Id del producto: 7\n",
            "Ingresa el Id del producto: 8\n",
            "Ingresa el Id del producto: 9\n",
            "Ingresa el Id del producto: 10\n",
            "El número de Id´s pares = 5\n",
            "El número de Id´s pares = 5\n"
          ]
        }
      ]
    },
    {
      "cell_type": "markdown",
      "source": [
        "9 - Desarrolla un programa que informe la puntuación de un estudiante de acuerdo con sus respuestas. Debe pedir la respuesta del estudiante para cada pregunta y verificar si la respuesta coincide con el resultado. Cada pregunta vale un punto y hay opciones A, B, C o D."
      ],
      "metadata": {
        "id": "D-HYxKk8zyBx"
      }
    },
    {
      "cell_type": "code",
      "source": [
        "respuestas = ['D', 'A', 'C', 'B', 'A', 'D', 'C', 'C', 'A', 'B']\n",
        "calif = 0\n",
        "\n",
        "\n",
        "for cal in range(1,11):\n",
        "\n",
        "  while resp_alumno not in ['A','B','C','D']:\n",
        "    resp_alumno = str(input (f'Ingresa la respuesta al reactivo {cal} ')).upper()\n",
        "\n",
        "    if resp_alumno not in ['A','B','C','D']:\n",
        "\n",
        "    resp_alumno = input('Ingrese valor valido: ')\n",
        "\n",
        "  else:\n",
        "    print (resp_alumno)\n",
        "\n"
      ],
      "metadata": {
        "id": "3d-aX5szyXQh",
        "outputId": "f324be92-b039-4a79-918f-f683f60f1f2c",
        "colab": {
          "base_uri": "https://localhost:8080/",
          "height": 408
        }
      },
      "execution_count": null,
      "outputs": [
        {
          "name": "stdout",
          "output_type": "stream",
          "text": [
            "Ingresa la respuesta al reactivo 1 A\n"
          ]
        },
        {
          "output_type": "error",
          "ename": "KeyboardInterrupt",
          "evalue": "Interrupted by user",
          "traceback": [
            "\u001b[0;31m---------------------------------------------------------------------------\u001b[0m",
            "\u001b[0;31mKeyboardInterrupt\u001b[0m                         Traceback (most recent call last)",
            "\u001b[0;32m<ipython-input-31-258590bb0f01>\u001b[0m in \u001b[0;36m<cell line: 0>\u001b[0;34m()\u001b[0m\n\u001b[1;32m      7\u001b[0m \u001b[0;34m\u001b[0m\u001b[0m\n\u001b[1;32m      8\u001b[0m   \u001b[0;32mif\u001b[0m \u001b[0mresp_alumno\u001b[0m \u001b[0;34m!=\u001b[0m \u001b[0;34m'A'\u001b[0m \u001b[0;32mor\u001b[0m \u001b[0;34m'B'\u001b[0m \u001b[0;32mor\u001b[0m \u001b[0;34m'C'\u001b[0m \u001b[0;32mor\u001b[0m \u001b[0;34m'D'\u001b[0m\u001b[0;34m:\u001b[0m\u001b[0;34m\u001b[0m\u001b[0;34m\u001b[0m\u001b[0m\n\u001b[0;32m----> 9\u001b[0;31m     \u001b[0mresp_alumno\u001b[0m \u001b[0;34m=\u001b[0m \u001b[0minput\u001b[0m\u001b[0;34m(\u001b[0m\u001b[0;34m'Ingrese valor valido: '\u001b[0m\u001b[0;34m)\u001b[0m\u001b[0;34m\u001b[0m\u001b[0;34m\u001b[0m\u001b[0m\n\u001b[0m\u001b[1;32m     10\u001b[0m \u001b[0;34m\u001b[0m\u001b[0m\n\u001b[1;32m     11\u001b[0m   \u001b[0;32melse\u001b[0m\u001b[0;34m:\u001b[0m\u001b[0;34m\u001b[0m\u001b[0;34m\u001b[0m\u001b[0m\n",
            "\u001b[0;32m/usr/local/lib/python3.11/dist-packages/ipykernel/kernelbase.py\u001b[0m in \u001b[0;36mraw_input\u001b[0;34m(self, prompt)\u001b[0m\n\u001b[1;32m   1175\u001b[0m                 \u001b[0;34m\"raw_input was called, but this frontend does not support input requests.\"\u001b[0m\u001b[0;34m\u001b[0m\u001b[0;34m\u001b[0m\u001b[0m\n\u001b[1;32m   1176\u001b[0m             )\n\u001b[0;32m-> 1177\u001b[0;31m         return self._input_request(\n\u001b[0m\u001b[1;32m   1178\u001b[0m             \u001b[0mstr\u001b[0m\u001b[0;34m(\u001b[0m\u001b[0mprompt\u001b[0m\u001b[0;34m)\u001b[0m\u001b[0;34m,\u001b[0m\u001b[0;34m\u001b[0m\u001b[0;34m\u001b[0m\u001b[0m\n\u001b[1;32m   1179\u001b[0m             \u001b[0mself\u001b[0m\u001b[0;34m.\u001b[0m\u001b[0m_parent_ident\u001b[0m\u001b[0;34m[\u001b[0m\u001b[0;34m\"shell\"\u001b[0m\u001b[0;34m]\u001b[0m\u001b[0;34m,\u001b[0m\u001b[0;34m\u001b[0m\u001b[0;34m\u001b[0m\u001b[0m\n",
            "\u001b[0;32m/usr/local/lib/python3.11/dist-packages/ipykernel/kernelbase.py\u001b[0m in \u001b[0;36m_input_request\u001b[0;34m(self, prompt, ident, parent, password)\u001b[0m\n\u001b[1;32m   1217\u001b[0m             \u001b[0;32mexcept\u001b[0m \u001b[0mKeyboardInterrupt\u001b[0m\u001b[0;34m:\u001b[0m\u001b[0;34m\u001b[0m\u001b[0;34m\u001b[0m\u001b[0m\n\u001b[1;32m   1218\u001b[0m                 \u001b[0;31m# re-raise KeyboardInterrupt, to truncate traceback\u001b[0m\u001b[0;34m\u001b[0m\u001b[0;34m\u001b[0m\u001b[0m\n\u001b[0;32m-> 1219\u001b[0;31m                 \u001b[0;32mraise\u001b[0m \u001b[0mKeyboardInterrupt\u001b[0m\u001b[0;34m(\u001b[0m\u001b[0;34m\"Interrupted by user\"\u001b[0m\u001b[0;34m)\u001b[0m \u001b[0;32mfrom\u001b[0m \u001b[0;32mNone\u001b[0m\u001b[0;34m\u001b[0m\u001b[0;34m\u001b[0m\u001b[0m\n\u001b[0m\u001b[1;32m   1220\u001b[0m             \u001b[0;32mexcept\u001b[0m \u001b[0mException\u001b[0m\u001b[0;34m:\u001b[0m\u001b[0;34m\u001b[0m\u001b[0;34m\u001b[0m\u001b[0m\n\u001b[1;32m   1221\u001b[0m                 \u001b[0mself\u001b[0m\u001b[0;34m.\u001b[0m\u001b[0mlog\u001b[0m\u001b[0;34m.\u001b[0m\u001b[0mwarning\u001b[0m\u001b[0;34m(\u001b[0m\u001b[0;34m\"Invalid Message:\"\u001b[0m\u001b[0;34m,\u001b[0m \u001b[0mexc_info\u001b[0m\u001b[0;34m=\u001b[0m\u001b[0;32mTrue\u001b[0m\u001b[0;34m)\u001b[0m\u001b[0;34m\u001b[0m\u001b[0;34m\u001b[0m\u001b[0m\n",
            "\u001b[0;31mKeyboardInterrupt\u001b[0m: Interrupted by user"
          ]
        }
      ]
    },
    {
      "cell_type": "code",
      "source": [],
      "metadata": {
        "id": "HrhCBrHF3-t-"
      },
      "execution_count": null,
      "outputs": []
    },
    {
      "cell_type": "markdown",
      "source": [
        "# Calentamiento"
      ],
      "metadata": {
        "id": "SDff-uW98CUJ"
      }
    },
    {
      "cell_type": "markdown",
      "source": [
        "1 - Escribe un código para instalar la versión 3.7.1 de la biblioteca matplotlib."
      ],
      "metadata": {
        "id": "zc2szEs18IyY"
      }
    },
    {
      "cell_type": "code",
      "source": [
        "!pip install matplotlib==3.7.1\n",
        "import matplotlib.pyplot as plt"
      ],
      "metadata": {
        "colab": {
          "base_uri": "https://localhost:8080/",
          "height": 538
        },
        "id": "2W1XlHY-8Gbn",
        "outputId": "0a86d61c-7272-47c6-9ae5-59a93f3ebe80"
      },
      "execution_count": 1,
      "outputs": [
        {
          "output_type": "stream",
          "name": "stdout",
          "text": [
            "Collecting matplotlib==3.7.1\n",
            "  Downloading matplotlib-3.7.1-cp311-cp311-manylinux_2_17_x86_64.manylinux2014_x86_64.whl.metadata (5.6 kB)\n",
            "Requirement already satisfied: contourpy>=1.0.1 in /usr/local/lib/python3.11/dist-packages (from matplotlib==3.7.1) (1.3.2)\n",
            "Requirement already satisfied: cycler>=0.10 in /usr/local/lib/python3.11/dist-packages (from matplotlib==3.7.1) (0.12.1)\n",
            "Requirement already satisfied: fonttools>=4.22.0 in /usr/local/lib/python3.11/dist-packages (from matplotlib==3.7.1) (4.57.0)\n",
            "Requirement already satisfied: kiwisolver>=1.0.1 in /usr/local/lib/python3.11/dist-packages (from matplotlib==3.7.1) (1.4.8)\n",
            "Requirement already satisfied: numpy>=1.20 in /usr/local/lib/python3.11/dist-packages (from matplotlib==3.7.1) (2.0.2)\n",
            "Requirement already satisfied: packaging>=20.0 in /usr/local/lib/python3.11/dist-packages (from matplotlib==3.7.1) (24.2)\n",
            "Requirement already satisfied: pillow>=6.2.0 in /usr/local/lib/python3.11/dist-packages (from matplotlib==3.7.1) (11.2.1)\n",
            "Requirement already satisfied: pyparsing>=2.3.1 in /usr/local/lib/python3.11/dist-packages (from matplotlib==3.7.1) (3.2.3)\n",
            "Requirement already satisfied: python-dateutil>=2.7 in /usr/local/lib/python3.11/dist-packages (from matplotlib==3.7.1) (2.9.0.post0)\n",
            "Requirement already satisfied: six>=1.5 in /usr/local/lib/python3.11/dist-packages (from python-dateutil>=2.7->matplotlib==3.7.1) (1.17.0)\n",
            "Downloading matplotlib-3.7.1-cp311-cp311-manylinux_2_17_x86_64.manylinux2014_x86_64.whl (11.6 MB)\n",
            "\u001b[2K   \u001b[90m━━━━━━━━━━━━━━━━━━━━━━━━━━━━━━━━━━━━━━━━\u001b[0m \u001b[32m11.6/11.6 MB\u001b[0m \u001b[31m111.3 MB/s\u001b[0m eta \u001b[36m0:00:00\u001b[0m\n",
            "\u001b[?25hInstalling collected packages: matplotlib\n",
            "  Attempting uninstall: matplotlib\n",
            "    Found existing installation: matplotlib 3.10.0\n",
            "    Uninstalling matplotlib-3.10.0:\n",
            "      Successfully uninstalled matplotlib-3.10.0\n",
            "\u001b[31mERROR: pip's dependency resolver does not currently take into account all the packages that are installed. This behaviour is the source of the following dependency conflicts.\n",
            "plotnine 0.14.5 requires matplotlib>=3.8.0, but you have matplotlib 3.7.1 which is incompatible.\u001b[0m\u001b[31m\n",
            "\u001b[0mSuccessfully installed matplotlib-3.7.1\n"
          ]
        },
        {
          "output_type": "display_data",
          "data": {
            "application/vnd.colab-display-data+json": {
              "pip_warning": {
                "packages": [
                  "matplotlib",
                  "mpl_toolkits"
                ]
              },
              "id": "4b469bcaf04e4e79a72c4d315c2ce408"
            }
          },
          "metadata": {}
        }
      ]
    },
    {
      "cell_type": "markdown",
      "source": [
        "2 - Escribe un código para importar la biblioteca numpy con el alias np."
      ],
      "metadata": {
        "id": "yWShkKXU-W6A"
      }
    },
    {
      "cell_type": "code",
      "source": [
        "import numpy as np"
      ],
      "metadata": {
        "id": "pXPFrEyG-HY2"
      },
      "execution_count": 2,
      "outputs": []
    },
    {
      "cell_type": "markdown",
      "source": [
        "3 - Crea un programa que lea la siguiente lista de números y elija uno al azar."
      ],
      "metadata": {
        "id": "iDVWhE7A-qKC"
      }
    },
    {
      "cell_type": "code",
      "source": [
        "from random import choice\n",
        "\n",
        "lista = [8, 12, 54, 23, 43, 1, 90, 87, 105, 77]\n",
        "\n",
        "numero_azar = choice(lista)\n",
        "numero_azar"
      ],
      "metadata": {
        "colab": {
          "base_uri": "https://localhost:8080/"
        },
        "id": "3Dk2a7mq-nfE",
        "outputId": "852d7043-d450-484b-9969-75082275316c"
      },
      "execution_count": 13,
      "outputs": [
        {
          "output_type": "execute_result",
          "data": {
            "text/plain": [
              "105"
            ]
          },
          "metadata": {},
          "execution_count": 13
        }
      ]
    },
    {
      "cell_type": "markdown",
      "source": [
        "4 - Crea un programa que genere aleatoriamente un número entero menor que 100."
      ],
      "metadata": {
        "id": "0Aqo-iBq_fAo"
      }
    },
    {
      "cell_type": "code",
      "source": [
        "from random import randrange\n",
        "\n",
        "lista = []\n",
        "\n",
        "for i in range(0, 20):\n",
        "  lista.append(randrange(100))\n",
        "\n",
        "numero_entero = choice(lista)\n",
        "numero_entero\n",
        "\n",
        "\"\"\"\n",
        "import random\n",
        "numero_aleatorio = random.randrange(100)\n",
        "print(numero_aleatorio)\n",
        "\n",
        "\"\"\""
      ],
      "metadata": {
        "colab": {
          "base_uri": "https://localhost:8080/"
        },
        "id": "fhlvMj-2_SJK",
        "outputId": "555ebb3f-bdc5-4cdb-d282-f505bcf6e4d9"
      },
      "execution_count": 29,
      "outputs": [
        {
          "output_type": "execute_result",
          "data": {
            "text/plain": [
              "65"
            ]
          },
          "metadata": {},
          "execution_count": 29
        }
      ]
    },
    {
      "cell_type": "markdown",
      "source": [
        "5 - Crea un programa que solicite a la persona usuaria ingresar dos números enteros y calcule la potencia del primer número elevado al segundo."
      ],
      "metadata": {
        "id": "vg1q6ovmBUmH"
      }
    },
    {
      "cell_type": "code",
      "source": [
        "base = int(input('Ingresa la base del valor al que deses generar su potencia: '))\n",
        "potencia = int(input('Ingresa la potencioa a la que deseas elevar: '))\n",
        "\n",
        "igual = base ** potencia\n",
        "\n",
        "igual\n",
        "\n",
        "'''\n",
        "import math\n",
        "num1 = int(input(\"Ingrese el primer número entero: \"))\n",
        "num2 = int(input(\"Ingrese el segundo número entero: \"))\n",
        "resultado = math.pow(num1, num2)\n",
        "print(f\"La potencia de {num1} elevado a {num2} es {resultado}\")\n",
        "\n",
        "'''\n"
      ],
      "metadata": {
        "colab": {
          "base_uri": "https://localhost:8080/"
        },
        "id": "WqiJ78jqA3yj",
        "outputId": "67ce504e-f756-4203-ffc2-2e66aea20e0b"
      },
      "execution_count": 31,
      "outputs": [
        {
          "name": "stdout",
          "output_type": "stream",
          "text": [
            "Ingresa la base del valor al que deses generar su potencia: 2\n",
            "Ingresa la potencioa a la que deseas elevar: 3\n"
          ]
        },
        {
          "output_type": "execute_result",
          "data": {
            "text/plain": [
              "8"
            ]
          },
          "metadata": {},
          "execution_count": 31
        }
      ]
    },
    {
      "cell_type": "markdown",
      "source": [
        "# Aplicando a proyectos"
      ],
      "metadata": {
        "id": "IP8scDpTDCyq"
      }
    },
    {
      "cell_type": "markdown",
      "source": [
        "6 - Se debe escribir un programa para sortear a un seguidor de una red social para ganar un premio. La lista de participantes está numerada y debemos elegir aleatoriamente un número según la cantidad de participantes. Pide a la persona usuaria que proporcione el número de participantes del sorteo y devuelve el número sorteado."
      ],
      "metadata": {
        "id": "eaAlyFyKDKoI"
      }
    },
    {
      "cell_type": "code",
      "source": [
        "numero_de_participantes = int(input('Ingresa el número de participantes en el sorteo: '))\n",
        "\n",
        "participantes = []\n",
        "\n",
        "for n in range (0, numero_de_participantes):\n",
        "  participantes.append(n)\n",
        "\n",
        "ganador = choice(participantes)\n",
        "print (f'El ganador es el participante con el número: {ganador}')\n",
        "\n",
        "'''\n",
        "import random\n",
        "\n",
        "cantidad_participantes = int(input(\"Ingrese la cantidad de participantes: \"))\n",
        "numero_sorteado = random.randint(1, cantidad_participantes)\n",
        "print(f\"El número sorteado es: {numero_sorteado}\")\n",
        "\n",
        "'''"
      ],
      "metadata": {
        "colab": {
          "base_uri": "https://localhost:8080/"
        },
        "id": "tI95FK3YCsH9",
        "outputId": "1d1deffc-1fd6-4782-80e2-d194b2ad1f1f"
      },
      "execution_count": 39,
      "outputs": [
        {
          "output_type": "stream",
          "name": "stdout",
          "text": [
            "Ingresa el número de participantes en el sorteo: 10\n",
            "El ganador es el participante con el número: 5\n"
          ]
        }
      ]
    },
    {
      "cell_type": "markdown",
      "source": [
        "7 - Has recibido una solicitud para generar números de token para acceder a la aplicación de una empresa. El token debe ser par y variar de 1000 a 9998. Escribe un código que solicite el nombre de la persona usuaria y muestre un mensaje junto a este token generado aleatoriamente."
      ],
      "metadata": {
        "id": "cd3XQYYWHWdn"
      }
    },
    {
      "cell_type": "code",
      "source": [
        "from random import randrange\n",
        "\n",
        "nombre_usuario = input ('Nombre de usuario: ')\n",
        "\n",
        "token_generado = randrange(1000, 9999, 2)\n",
        "\n",
        "print(f\"Hola, {nombre_usuario}, tu token de acceso es {token_generado} ¡Bienvenido/a!\")"
      ],
      "metadata": {
        "colab": {
          "base_uri": "https://localhost:8080/"
        },
        "id": "6eRO92e1GJCt",
        "outputId": "a8d7248d-4970-4594-bf92-c66a468d5925"
      },
      "execution_count": 41,
      "outputs": [
        {
          "output_type": "stream",
          "name": "stdout",
          "text": [
            "Nombre de usuario: Luis\n",
            "Hola, Luis, tu token de acceso es 6752 ¡Bienvenido/a!\n"
          ]
        }
      ]
    },
    {
      "cell_type": "markdown",
      "source": [
        "8 - Para diversificar y atraer nuevos clientes, una lanchonete creó un ítem misterioso en su menú llamado \"ensalada de frutas sorpresa\". En este ítem, se eligen aleatoriamente 3 frutas de una lista de 12 para componer la ensalada de frutas del cliente. Crea el código que realice esta selección aleatoria según la lista dada."
      ],
      "metadata": {
        "id": "uTRS2CavKiy6"
      }
    },
    {
      "cell_type": "code",
      "source": [
        "from random import choice\n",
        "\n",
        "frutas = [\"manzana\", \"banana\", \"uva\", \"pera\", \"mango\", \"coco\", \"sandia\", \"fresa\", \"naranja\", \"maracuya\", \"kiwi\", \"cereza\"]\n",
        "\n",
        "coctel = []\n",
        "\n",
        "for f in range(0,3):\n",
        "    coctel.append (choice(frutas))\n",
        "coctel\n",
        "\n",
        "'''\n",
        "import random\n",
        "\n",
        "frutas = [\"manzana\", \"banana\", \"uva\", \"pera\", \"mango\", \"coco\", \"sandia\", \"fresa\", \"naranja\", \"maracuya\", \"kiwi\", \"cereza\"]\n",
        "seleccion_frutas = random.sample(frutas, 3)\n",
        "print(\"Ensalada de frutas sorpresa:\", seleccion_frutas)\n",
        "\n",
        "'''"
      ],
      "metadata": {
        "colab": {
          "base_uri": "https://localhost:8080/"
        },
        "id": "4se2hsmRKVBD",
        "outputId": "0165c8b3-3426-4218-93ef-84d8047d5151"
      },
      "execution_count": 15,
      "outputs": [
        {
          "output_type": "execute_result",
          "data": {
            "text/plain": [
              "['sandia', 'maracuya', 'kiwi']"
            ]
          },
          "metadata": {},
          "execution_count": 15
        }
      ]
    },
    {
      "cell_type": "markdown",
      "source": [
        "9 - Has recibido un desafío para calcular la raíz cuadrada de una lista de números, identificando cuáles resultan en un número entero. La lista es la siguiente:"
      ],
      "metadata": {
        "id": "uXb9ANjMvRjE"
      }
    },
    {
      "cell_type": "code",
      "source": [
        "from math import sqrt\n",
        "\n",
        "numeros = [2, 8, 15, 23, 91, 112, 256]\n",
        "raices = []\n",
        "\n",
        "for r in numeros:\n",
        "  raices.append (sqrt(r))\n",
        "raices\n",
        "\n",
        "'''\n",
        "import math\n",
        "\n",
        "numeros = [2, 8, 15, 23, 91, 112, 256]\n",
        "raices_enteras = [num for num in numeros if math.sqrt(num) % 1 == 0]\n",
        "print(\"Números con raíces enteras:\", raices_enteras)\n",
        "\n",
        "'''"
      ],
      "metadata": {
        "colab": {
          "base_uri": "https://localhost:8080/"
        },
        "id": "Lh-WVASeus9R",
        "outputId": "38951f7e-d92d-45d0-a2e5-9ecef13d17da"
      },
      "execution_count": 17,
      "outputs": [
        {
          "output_type": "execute_result",
          "data": {
            "text/plain": [
              "[1.4142135623730951,\n",
              " 2.8284271247461903,\n",
              " 3.872983346207417,\n",
              " 4.795831523312719,\n",
              " 9.539392014169456,\n",
              " 10.583005244258363,\n",
              " 16.0]"
            ]
          },
          "metadata": {},
          "execution_count": 17
        }
      ]
    },
    {
      "cell_type": "markdown",
      "source": [
        "10 - Haz un programa para una tienda que vende césped para jardines. Esta tienda trabaja con jardines circulares y el precio del metro cuadrado de césped es de R$ 25,00. Pide a la persona usuaria el radio del área circular y devuelve el valor en reales de cuánto tendrá que pagar."
      ],
      "metadata": {
        "id": "95cU-IH207XG"
      }
    },
    {
      "cell_type": "code",
      "source": [
        "from math import pi\n",
        "\n",
        "radio = float(input('Ingresa el valor en metros del radio del área requerida: '))\n",
        "\n",
        "precio_metro2 = 25\n",
        "\n",
        "area = pi * radio ** 2\n",
        "\n",
        "total = area * precio_metro2\n",
        "\n",
        "print(f'El valor de {area}m2 de cesped es de {total}')\n",
        "\n",
        "''' import math\n",
        "\n",
        "precio_metro_cuadrado = 25.00\n",
        "radio = float(input(\"Ingrese el radio del área circular en metros: \"))\n",
        "area = math.pi * math.pow(radio, 2)\n",
        "costo_total = precio_metro_cuadrado * area\n",
        "\n",
        "print(f\"El costo total es de R$ {round(costo_total,2)}\") '''\n"
      ],
      "metadata": {
        "colab": {
          "base_uri": "https://localhost:8080/"
        },
        "id": "pJjlJgX3zc2A",
        "outputId": "ce87c376-c79c-42af-cfa5-2d6dc14f00c8"
      },
      "execution_count": 23,
      "outputs": [
        {
          "output_type": "stream",
          "name": "stdout",
          "text": [
            "Ingresa el valor en metros del radio del área requerida: 5\n",
            "El valor de 78.53981633974483m2 de cesped es de 1963.4954084936207\n"
          ]
        }
      ]
    },
    {
      "cell_type": "code",
      "source": [
        "# nuestra función recibe una lista del tipo list y retorna una variable del tipo float\n",
        "def media(lista: list) -> float:\n",
        "  calculo = sum(lista) / len(lista)\n",
        "  return calculo"
      ],
      "metadata": {
        "id": "QfZ_mkU-2Z30"
      },
      "execution_count": 1,
      "outputs": []
    },
    {
      "cell_type": "code",
      "source": [
        "media ([8,7,3,6,7,4.9,7.7,4.9])"
      ],
      "metadata": {
        "id": "PqKQKT65gyPE",
        "outputId": "7d9f808a-4790-40f6-ef92-6e28f671ebf0",
        "colab": {
          "base_uri": "https://localhost:8080/"
        }
      },
      "execution_count": 2,
      "outputs": [
        {
          "output_type": "execute_result",
          "data": {
            "text/plain": [
              "6.0625"
            ]
          },
          "metadata": {},
          "execution_count": 2
        }
      ]
    },
    {
      "cell_type": "code",
      "source": [
        "# nuestra función recibe una lista del tipo list y retorna una variable del tipo float\n",
        "# si no recibe ningún valor de parámetro, se pasará una lista con un único\n",
        "# elemento, siendo este cero\n",
        "def media(lista: list=[0]) -> float:\n",
        "  calculo = sum(lista) / len(lista)\n",
        "  return calculo"
      ],
      "metadata": {
        "id": "duzsIP31g_zJ"
      },
      "execution_count": 3,
      "outputs": []
    },
    {
      "cell_type": "code",
      "source": [
        "media()"
      ],
      "metadata": {
        "id": "Qrp7HcymhM58",
        "outputId": "53ba2182-e20a-4cc0-c108-bdc6323fa9d7",
        "colab": {
          "base_uri": "https://localhost:8080/"
        }
      },
      "execution_count": 8,
      "outputs": [
        {
          "output_type": "execute_result",
          "data": {
            "text/plain": [
              "0.0"
            ]
          },
          "metadata": {},
          "execution_count": 8
        }
      ]
    },
    {
      "cell_type": "code",
      "source": [
        "def media(lista: list=[0]) -> float:\n",
        "  '''Función para calcular la media de notas pasadas por una lista\n",
        "\n",
        "  lista: list, default [0]\n",
        "    Lista con las notas para calcular la media\n",
        "  return = calculo: float\n",
        "    Media calculada\n",
        "  '''\n",
        "  calculo = sum(lista) / len(lista)\n",
        "  return calculo"
      ],
      "metadata": {
        "id": "JDxMa2d3hTB-"
      },
      "execution_count": 9,
      "outputs": []
    },
    {
      "cell_type": "code",
      "source": [
        "help(media)"
      ],
      "metadata": {
        "id": "hFPeiIEpiNqF",
        "outputId": "534b751a-ee4a-4ec3-f9ad-cf08fc04d849",
        "colab": {
          "base_uri": "https://localhost:8080/"
        }
      },
      "execution_count": 12,
      "outputs": [
        {
          "output_type": "stream",
          "name": "stdout",
          "text": [
            "Help on function media in module __main__:\n",
            "\n",
            "media(lista: list = [0]) -> float\n",
            "    Función para calcular la media de notas pasadas por una lista\n",
            "    \n",
            "    lista: list, default [0]\n",
            "      Lista con las notas para calcular la media\n",
            "    return = calculo: float\n",
            "      Media calculada\n",
            "\n"
          ]
        }
      ]
    },
    {
      "cell_type": "markdown",
      "source": [
        "# Funciones"
      ],
      "metadata": {
        "id": "pNUhba0kjqwT"
      }
    },
    {
      "cell_type": "markdown",
      "source": [
        "## Calentamiento"
      ],
      "metadata": {
        "id": "h5yg3sWsjtVK"
      }
    },
    {
      "cell_type": "markdown",
      "source": [
        "1 - Escribe un código que lee la lista siguiente y realiza:\n",
        "1. Leer el tamaño de la lista\n",
        "2. Leer el valor máximo y mínimo\n",
        "3. Calcular la suma de los valores de la lista\n",
        "4. Mostrar un mensaje al final: La lista tiene `tamano` números, donde el mayor es `mayor` y el menor es `menor`. La suma de los valores es `suma`."
      ],
      "metadata": {
        "id": "X513jNTAjzgl"
      }
    },
    {
      "cell_type": "code",
      "source": [
        "lista = [16, 14, 63, 65, 17, 99, 70, 11, 20, 48, 79, 32, 17, 89, 12, 25, 66]\n",
        "\n",
        "tamano = len(lista)\n",
        "mayor = max(lista)\n",
        "menor = min(lista)\n",
        "suma = sum(lista)\n",
        "\n",
        "print(f'La lista tiene {tamano} números, donde el mayor es {mayor} y el menor es {menor}. La suma de los valores es {suma}.')"
      ],
      "metadata": {
        "id": "z_aJzEPWiklW",
        "outputId": "d26e31e4-5dc8-4971-beb4-5f3cacf98799",
        "colab": {
          "base_uri": "https://localhost:8080/"
        }
      },
      "execution_count": 14,
      "outputs": [
        {
          "output_type": "stream",
          "name": "stdout",
          "text": [
            "La lista tiene 17 números, donde el mayor es 99 y el menor es 11. La suma de los valores es 743.\n"
          ]
        }
      ]
    },
    {
      "cell_type": "markdown",
      "source": [
        "2 - Escribe una función que genere la tabla de multiplicar de un número entero del 1 al 10, según la elección del usuario. Como ejemplo, para el número 7, la tabla de multiplicar se debe mostrar en el siguiente formato:"
      ],
      "metadata": {
        "id": "_eDR6NTxm0cj"
      }
    },
    {
      "cell_type": "code",
      "source": [
        "def multiplic():\n",
        "  tabla = int(input('Ingresa la tabla de multiplicar que deseas: '))\n",
        "\n",
        "  for n in range(1,11):\n",
        "    mult_ = n * tabla\n",
        "    print(f'{tabla} X {n} = {mult_}')\n",
        "\n",
        "multiplic()"
      ],
      "metadata": {
        "id": "FUD3A0fslo6Z",
        "outputId": "9840a93e-34fc-43c9-b398-5d1b81c2ed35",
        "colab": {
          "base_uri": "https://localhost:8080/"
        }
      },
      "execution_count": 19,
      "outputs": [
        {
          "output_type": "stream",
          "name": "stdout",
          "text": [
            "Ingresa la tabla de multiplicar que deseas: 4\n",
            "4 X 1 = 4\n",
            "4 X 2 = 8\n",
            "4 X 3 = 12\n",
            "4 X 4 = 16\n",
            "4 X 5 = 20\n",
            "4 X 6 = 24\n",
            "4 X 7 = 28\n",
            "4 X 8 = 32\n",
            "4 X 9 = 36\n",
            "4 X 10 = 40\n"
          ]
        }
      ]
    },
    {
      "cell_type": "markdown",
      "source": [
        "3 - Crea una función que lea la siguiente lista [97, 80, 94, 88, 80, 1, 16, 53, 62, 32, 24, 99] y devuelva una nueva lista con los múltiplos de 3:"
      ],
      "metadata": {
        "id": "N0WOthIso7hz"
      }
    },
    {
      "cell_type": "code",
      "source": [
        "lista = [97, 80, 94, 88, 80, 1, 16, 53, 62, 32, 24, 99]\n",
        "resultado = []\n",
        "\n",
        "def mult_3(lista):\n",
        "    for numero in lista:\n",
        "        if numero % 3 == 0:\n",
        "            resultado.append(numero)\n",
        "    return resultado\n",
        "\n",
        "'''\n",
        "def multiplos_de_tres(lista):\n",
        "    return [num for num in lista if num % 3 == 0]\n",
        "\n",
        "# Uso de la función\n",
        "lista_original = [97, 80, 94, 88, 80, 1, 16, 53, 62, 32, 24, 99]\n",
        "mult_3 = multiplos_de_tres(lista_original)\n",
        "print(mult_3)\n",
        "\n",
        "'''"
      ],
      "metadata": {
        "id": "GDGN1LG8op72"
      },
      "execution_count": 22,
      "outputs": []
    },
    {
      "cell_type": "code",
      "source": [
        "mult_3(lista)"
      ],
      "metadata": {
        "id": "dKgzsXF8rJYo",
        "outputId": "33385713-e4e9-4b4f-9ecd-72bb960b35a3",
        "colab": {
          "base_uri": "https://localhost:8080/"
        }
      },
      "execution_count": 24,
      "outputs": [
        {
          "output_type": "execute_result",
          "data": {
            "text/plain": [
              "[24, 99]"
            ]
          },
          "metadata": {},
          "execution_count": 24
        }
      ]
    },
    {
      "cell_type": "markdown",
      "source": [
        "4 - Crea una lista de los cuadrados de los números de la siguiente lista [1, 2, 3, 4, 5, 6, 7, 8, 9, 10]. Recuerda utilizar las funciones lambda y map() para calcular el cuadrado de cada elemento de la lista."
      ],
      "metadata": {
        "id": "_tzb1zPRykAb"
      }
    },
    {
      "cell_type": "code",
      "source": [
        "lista_1 = [1, 2, 3, 4, 5, 6, 7, 8, 9, 10]\n",
        "\n",
        "cuadrados_ = map(lambda x: x ** 2, lista_1)\n",
        "cuadrados_ = list(cuadrados_)\n",
        "print(cuadrados_)\n",
        "\n",
        "'''\n",
        "numeros = [1, 2, 3, 4, 5, 6, 7, 8, 9, 10]\n",
        "cuadrados = list(map(lambda x: x**2, numeros))\n",
        "print(cuadrados)\n",
        "\n",
        "'''"
      ],
      "metadata": {
        "id": "6qXVBTz4ylGC",
        "outputId": "5a0b3197-9718-46fb-c088-d71698151289",
        "colab": {
          "base_uri": "https://localhost:8080/"
        }
      },
      "execution_count": 27,
      "outputs": [
        {
          "output_type": "stream",
          "name": "stdout",
          "text": [
            "[1, 4, 9, 16, 25, 36, 49, 64, 81, 100]\n"
          ]
        }
      ]
    },
    {
      "cell_type": "markdown",
      "source": [
        "## Aplicando a proyectos\n",
        "\n"
      ],
      "metadata": {
        "id": "QnDoRB-F08os"
      }
    },
    {
      "cell_type": "markdown",
      "source": [
        "5 - Has sido contratado como científico(a) de datos de una asociación de skate. Para analizar las notas recibidas por los skaters en algunas competiciones a lo largo del año, necesitas crear un código que calcule la puntuación de los atletas. Para ello, tu código debe recibir 5 notas ingresadas por los jueces.\n"
      ],
      "metadata": {
        "id": "uxZQcJew1AS2"
      }
    },
    {
      "cell_type": "code",
      "source": [
        "def calculo_puntuacion():\n",
        "  notas = []\n",
        "  for n in range (1,6):\n",
        "    nota_ = float(input('Ingresa el valor de la calificación: '))\n",
        "    notas.append(nota_)\n",
        "  resultado = sum(notas) / len(notas)\n",
        "  return resultado\n",
        "\n",
        "calculo_puntuacion()\n",
        "\n",
        "'''\n",
        "notas = [float(input(f\"Ingrese la nota {i + 1}: \")) for i in range(5)]\n",
        "notas.sort()\n",
        "media = sum(notas[1:4]) / 3\n",
        "print(f\"Nota de la maniobra: {media:.2f}\")\n",
        "\n",
        "'''"
      ],
      "metadata": {
        "id": "KHuaLjJ20r2F",
        "outputId": "4c40ca0a-e191-4691-fa1a-b6200af8db6c",
        "colab": {
          "base_uri": "https://localhost:8080/"
        }
      },
      "execution_count": 36,
      "outputs": [
        {
          "name": "stdout",
          "output_type": "stream",
          "text": [
            "Ingresa el valor de la calificación: 7\n",
            "Ingresa el valor de la calificación: 8\n",
            "Ingresa el valor de la calificación: 9\n",
            "Ingresa el valor de la calificación: 4.7\n",
            "Ingresa el valor de la calificación: 5.8\n"
          ]
        },
        {
          "output_type": "execute_result",
          "data": {
            "text/plain": [
              "6.9"
            ]
          },
          "metadata": {},
          "execution_count": 36
        }
      ]
    },
    {
      "cell_type": "markdown",
      "source": [
        "6 - Para cumplir con una demanda de una institución educativa para el análisis del rendimiento de sus estudiantes, necesitas crear una función que reciba una lista de 4 notas y devuelva:\n",
        "* mayor nota\n",
        "* menor nota\n",
        "* media\n",
        "* situación (Aprobado(a) o Reprobado(a))\n",
        "* Uso de la función\n",
        "* Mostrar: El estudiante obtuvo una media de `media`, con la mayor nota de `mayor` puntos y la menor nota de `menor` puntos y fue `situacion`.)"
      ],
      "metadata": {
        "id": "2rX7LWuv7OrW"
      }
    },
    {
      "cell_type": "code",
      "source": [
        "def rendimiento():\n",
        "  notas_ = []\n",
        "  for r in range(0,4):\n",
        "    nota_ = float(input('Ingresa el valor de la calificación: '))\n",
        "    notas_.append(nota_)\n",
        "\n",
        "  mayor = max(notas_)\n",
        "  menor = min(notas_)\n",
        "  media = sum(notas_) / len(notas_)\n",
        "\n",
        "  if media >= 7:\n",
        "    situacion = 'Aprobado(a)'\n",
        "  else:\n",
        "    situacion = 'Reprobado(a)'\n",
        "  return f'El estudiante obtuvo una media de {media}, con la mayor nota de {mayor} puntos y la menor nota de {menor} puntos y fue {situacion}.'\n",
        "\n",
        "  '''\n",
        "  def analisis_notas(notas):\n",
        "    mayor = max(notas)\n",
        "    menor = min(notas)\n",
        "    media = sum(notas) / len(notas)\n",
        "    situacion = \"Aprobado\" if media >= 6 else \"Reprobado\"\n",
        "    return mayor, menor, media, situacion\n",
        "\n",
        "# Uso de la función\n",
        "notas_estudiante = [float(input(f\"Ingrese la nota {i + 1}: \")) for i in range(4)]\n",
        "resultado = analisis_notas(notas_estudiante)\n",
        "print(f\"El estudiante obtuvo una media de {resultado[2]:.2f}, con la mayor nota de {resultado[0]:.2f} puntos y la menor nota de {resultado[1]:.2f} puntos y fue {resultado[3]}\")\n",
        "'''\n"
      ],
      "metadata": {
        "id": "48JUAkw70-KV"
      },
      "execution_count": 41,
      "outputs": []
    },
    {
      "cell_type": "code",
      "source": [
        "rendimiento()"
      ],
      "metadata": {
        "id": "BRY-8puO_goO",
        "outputId": "3803e925-e24f-461f-fe72-e39e3b969970",
        "colab": {
          "base_uri": "https://localhost:8080/",
          "height": 127
        }
      },
      "execution_count": 42,
      "outputs": [
        {
          "name": "stdout",
          "output_type": "stream",
          "text": [
            "Ingresa el valor de la calificación: 7\n",
            "Ingresa el valor de la calificación: 8\n",
            "Ingresa el valor de la calificación: 9\n",
            "Ingresa el valor de la calificación: 10\n"
          ]
        },
        {
          "output_type": "execute_result",
          "data": {
            "text/plain": [
              "'El estudiante obtuvo una media de 8.5, con la mayor nota de 10.0 puntos y la menor nota de 7.0 puntos y fue Aprobado(a).'"
            ],
            "application/vnd.google.colaboratory.intrinsic+json": {
              "type": "string"
            }
          },
          "metadata": {},
          "execution_count": 42
        }
      ]
    },
    {
      "cell_type": "markdown",
      "source": [
        "7 - Has recibido una demanda para tratar 2 listas con los nombres y apellidos de cada estudiante concatenándolos para presentar sus nombres completos en la forma Nombre Apellido. Las listas son:\n",
        "\n",
        "nombres = [\"juan\", \"MaRia\", \"JOSÉ\"]\n",
        "apellidos = [\"SILVA\", \"sosa\", \"Tavares\"]\n",
        "\n",
        "* Normalizar nombres y apellidos y crear una nueva lista con los nombres completos\n",
        "* Puedes apoyarte en la función map()"
      ],
      "metadata": {
        "id": "R25CgKwjBXR8"
      }
    },
    {
      "cell_type": "code",
      "source": [
        "nombres = [\"juan\", \"MaRia\", \"JOSÉ\"]\n",
        "apellidos = [\"SILVA\", \"sosa\", \"Tavares\"]\n",
        "\n",
        "# Función que normaliza y concatena un nombre y apellido\n",
        "def nombre_completo(nombre, apellido):\n",
        "    return nombre.capitalize() + \" \" + apellido.capitalize()\n",
        "\n",
        "# Usamos map con dos listas a la vez\n",
        "nombres_completos = list(map(nombre_completo, nombres, apellidos))\n",
        "\n",
        "print(nombres_completos)\n",
        "\n",
        "'''\n",
        "nombres = [\"juan\", \"MaRia\", \"JOSÉ\"]\n",
        "sobrenombres = [\"SILVA\", \"sosa\", \"Tavares\"]\n",
        "\n",
        "# Normalizar nombres y apellidos y crear una nueva lista con los nombres completos\n",
        "nombres_normalizados = map(lambda x: x.capitalize(), nombres)\n",
        "sobrenombres_normalizados = map(lambda x: x.capitalize(), sobrenombres)\n",
        "nombres_completos = list(map(lambda x, y: f\"Nome completo: {x} {y}\", nombres_normalizados, sobrenombres_normalizados))\n",
        "print(nombres_completos)\n",
        "\n",
        "'''\n"
      ],
      "metadata": {
        "id": "O8_btuU_A85M",
        "outputId": "295aca05-f69f-4ad0-c174-1b0b692d1e47",
        "colab": {
          "base_uri": "https://localhost:8080/"
        }
      },
      "execution_count": 47,
      "outputs": [
        {
          "output_type": "stream",
          "name": "stdout",
          "text": [
            "['Juan Silva', 'Maria Sosa', 'José Tavares']\n"
          ]
        }
      ]
    },
    {
      "cell_type": "markdown",
      "source": [
        "8 - Como científico de datos en un equipo de fútbol, necesitas implementar nuevas formas de recopilación de datos sobre el rendimiento de los jugadores y del equipo en su conjunto. Tu primera acción es crear una forma de calcular la puntuación del equipo en el campeonato nacional a partir de los datos de goles marcados y recibidos en cada juego.\n",
        "\n",
        "Escribe una función llamada calcula_puntos() que recibe como parámetros dos listas de números enteros, representando los goles marcados y recibidos por el equipo en cada partido del campeonato. La función debe devolver la puntuación del equipo y el rendimiento en porcentaje, teniendo en cuenta que la victoria vale 3 puntos, el empate 1 punto y la derrota 0 puntos.\n",
        "\n",
        "Nota: si la cantidad de goles marcados en un partido es mayor que los recibidos, el equipo ganó. En caso de ser igual, el equipo empató, y si es menor, el equipo perdió. Para calcular el rendimiento, debemos hacer la razón entre la puntuación del equipo y la puntuación máxima que podría recibir.\n",
        "\n",
        "Para la prueba, utiliza las siguientes listas de goles marcados y recibidos:\n",
        "\n",
        "goles_marcados = [2, 1, 3, 1, 0]\n",
        "\n",
        "goles_recibidos = [1, 2, 2, 1, 3]\n",
        "\n",
        "Texto probablemente mostrado:\n",
        "La puntuación del equipo fue `puntos` y su rendimiento fue `desempeno`%\""
      ],
      "metadata": {
        "id": "-3ZUTuxEI6Nu"
      }
    },
    {
      "cell_type": "code",
      "source": [
        "def calcula_puntos(goles_marcados, goles_recibidos):\n",
        "  puntos = 0\n",
        "  total_de_partidos = len(goles_marcados)\n",
        "\n",
        "  for i in range(total_de_partidos):\n",
        "    if goles_marcados[i] > goles_recibidos[i]:\n",
        "      puntos += 3\n",
        "    elif goles_marcados[i] == goles_recibidos[i]:\n",
        "      puntos += 1\n",
        "\n",
        "  maximo_puntos = total_de_partidos * 3\n",
        "  desempeno = (puntos / maximo_puntos) * 100\n",
        "\n",
        "  print(f\"La puntuación del equipo fue {puntos} y su rendimiento fue {desempeno:.2f}%\")\n",
        "  return puntos, desempeno\n"
      ],
      "metadata": {
        "id": "-EPjmyIqF43V"
      },
      "execution_count": 51,
      "outputs": []
    },
    {
      "cell_type": "code",
      "source": [
        "goles_marcados = [2, 1, 3, 1, 0]\n",
        "goles_recibidos = [1, 2, 2, 1, 3]\n",
        "\n",
        "calcula_puntos(goles_marcados, goles_recibidos)"
      ],
      "metadata": {
        "id": "qYP48y8cNW1D",
        "outputId": "b62e9ac3-2e03-41ba-e705-45489f984260",
        "colab": {
          "base_uri": "https://localhost:8080/"
        }
      },
      "execution_count": 54,
      "outputs": [
        {
          "output_type": "stream",
          "name": "stdout",
          "text": [
            "La puntuación del equipo fue 7 y su rendimiento fue 46.67%\n"
          ]
        },
        {
          "output_type": "execute_result",
          "data": {
            "text/plain": [
              "(7, 46.666666666666664)"
            ]
          },
          "metadata": {},
          "execution_count": 54
        }
      ]
    },
    {
      "cell_type": "markdown",
      "source": [
        "9 - Te han desafiado a crear un código que calcule los gastos de un viaje a una de las cuatro ciudades desde Recife, siendo ellas: Salvador, Fortaleza, Natal y Aracaju.\n",
        "\n",
        "El costo diario del hotel es de 150 reales en todas ellas y el consumo de gasolina en el viaje en coche es de 14 km/l, siendo que el precio de la gasolina es de 5 reales por litro. Los gastos con paseos y alimentación a realizar en cada una de ellas por día serían [200, 400, 250, 300], respectivamente.\n",
        "\n",
        "Sabiendo que las distancias entre Recife y cada una de las ciudades son aproximadamente [850, 800, 300, 550] km, crea tres funciones: la primera función calcula los gastos de hotel (gasto_hotel), la segunda calcula los gastos de gasolina (gasto_gasolina) y la tercera los gastos de paseo y alimentación (gasto_paseo).\n",
        "\n",
        "Para probar, simula un viaje de 3 días a Salvador desde Recife. Considera el viaje de ida y vuelta en coche."
      ],
      "metadata": {
        "id": "zHOXN5GcVMuM"
      }
    },
    {
      "cell_type": "code",
      "source": [
        "ciudades = ['salvador', 'fortaleza', 'natal','aracaju']\n",
        "costo_hotel = 150 #dia\n",
        "consumo_gasolina = 14 #km/l\n",
        "precio_gasolina = 5\n",
        "gastos = [200,400,250,300]\n",
        "distancia = [850,800,300,550] #km\n",
        "\n",
        "destino = input('Ingresa tu destino: ').lower()\n",
        "num_dias = int(input('Ingresa el número de días a alojarse: '))\n",
        "\n",
        "def gasto_hotel(dias):\n",
        "  return costo_hotel * dias\n",
        "\n",
        "def gasto_gasolina(dest):\n",
        "  if dest in ciudades:\n",
        "    g = ciudades.index(dest)\n",
        "    return (2 * distancia[g] * precio_gasolina) / consumo_gasolina\n",
        "  else:\n",
        "    print('Ciudad no encontrada')\n",
        "    return 0\n",
        "\n",
        "def gasto_paseo(dest):\n",
        "  if dest in ciudades:\n",
        "    g = ciudades.index(dest)\n",
        "    return gastos[g] * dias\n",
        "  else:\n",
        "    print('Ciudad no encontrada')\n",
        "    return 0\n",
        "\n",
        "hotel = gasto_hotel(num_dias)\n",
        "gasolina = gasto_gasolina(destino)\n",
        "gastos_alimentos = gasto_paseo(destino)\n",
        "\n",
        "gastos_totales = hotel + gasolina + gastos_alimentos\n",
        "gastos_totales = round(gastos_totales, 2)\n",
        "\n",
        "print(f'Con base en los gastos definidos, un viaje de {num_dias} días a {destino} desde Recife costaría {gastos_totales} reales.')\n"
      ],
      "metadata": {
        "id": "LGtrl6JLNi_2",
        "outputId": "936a0fce-4c19-4814-98f1-434aeb9b6dca",
        "colab": {
          "base_uri": "https://localhost:8080/"
        }
      },
      "execution_count": 66,
      "outputs": [
        {
          "output_type": "stream",
          "name": "stdout",
          "text": [
            "Ingresa tu destino: salvador\n",
            "Ingresa el número de días a alojarse: 3\n",
            "Con base en los gastos definidos, un viaje de 3 días a salvador desde Recife costaría 1657.14 reales.\n"
          ]
        }
      ]
    },
    {
      "cell_type": "code",
      "source": [
        "dias = int(input(\"¿Cuántas diarias? \"))\n",
        "ciudad = input(\"¿Cuál es la ciudad? [Salvador, Fortaleza, Natal o Aracaju]: \")\n",
        "distancias = [850, 800, 300, 550]\n",
        "paseo = [200, 400, 250, 300]\n",
        "km_l = 14\n",
        "gasolina = 5\n",
        "\n",
        "def gasto_hotel(dias):\n",
        "    return 150 * dias\n",
        "\n",
        "def gasto_gasolina(ciudad):\n",
        "    if ciudad == \"Salvador\":\n",
        "        return (2 * distancias[0] * gasolina) / km_l\n",
        "    elif ciudad == \"Fortaleza\":\n",
        "        return (2 * distancias[1] * gasolina) / km_l\n",
        "    elif ciudad == \"Natal\":\n",
        "        return (2 * distancias[2] * gasolina) / km_l\n",
        "    elif ciudad == \"Aracaju\":\n",
        "        return (2 * distancias[3] * gasolina) / km_l\n",
        "\n",
        "def gasto_paseo(ciudad, dias):\n",
        "    if ciudad==\"Salvador\":\n",
        "        return paseo[0] * dias\n",
        "    elif ciudad==\"Fortaleza\":\n",
        "        return paseo[1] * dias\n",
        "    elif ciudad==\"Natal\":\n",
        "        return paseo[2] * dias\n",
        "    elif ciudad==\"Aracaju\":\n",
        "        return paseo[3] * dias\n",
        "\n",
        "gastos = gasto_hotel(dias) + gasto_gasolina(ciudad) + gasto_paseo(ciudad, dias)\n",
        "print(f\"Con base en los gastos definidos, un viaje de {dias} días a {ciudad} desde Recife costaría {round(gastos, 2)} reales\")"
      ],
      "metadata": {
        "id": "f2qRybzCtIJj",
        "outputId": "848a39f1-bb9a-47a5-9faa-9df11bbac869",
        "colab": {
          "base_uri": "https://localhost:8080/"
        }
      },
      "execution_count": 65,
      "outputs": [
        {
          "output_type": "stream",
          "name": "stdout",
          "text": [
            "¿Cuántas diarias? 3\n",
            "¿Cuál es la ciudad? [Salvador, Fortaleza, Natal o Aracaju]: Salvador\n",
            "Con base en los gastos definidos, un viaje de 3 días a Salvador desde Recife costaría 1657.14 reales\n"
          ]
        }
      ]
    },
    {
      "cell_type": "markdown",
      "source": [
        "10 - Has comenzado una pasantía en una empresa que trabaja con procesamiento de lenguaje natural (NLP). Tu líder te solicitó que crees un fragmento de código que reciba una frase escrita por el usuario y filtre solo las palabras con un tamaño mayor o igual a 5, mostrándolas en una lista. Esta demanda se centra en el análisis del patrón de comportamiento de las personas al escribir palabras de esta cantidad de caracteres o más.\n",
        "\n",
        "Consejo: utiliza las funciones lambda y filter() para filtrar estas palabras. Recordando que la función integrada filter() recibe una función (en nuestro caso, una función lambda) y filtra un iterable según la función. Para tratar la frase, utiliza replace() para cambiar ',' '.', '!' y '?' por espacio.\n",
        "\n",
        "Utiliza la frase \"Aprender Python aquí en Alura es muy bueno\" para probar el código."
      ],
      "metadata": {
        "id": "pGZ1xSdTouCK"
      }
    },
    {
      "cell_type": "code",
      "source": [
        "# Frase de prueba\n",
        "frase = \"Aprender Python aquí en Alura es muy bueno\"\n",
        "\n",
        "# Eliminamos signos de puntuación reemplazándolos por espacios\n",
        "frase = frase.replace(',', ' ').replace('.', ' ').replace('!', ' ').replace('?', ' ')\n",
        "\n",
        "# Convertimos la frase en una lista de palabras\n",
        "palabras = frase.split()\n",
        "\n",
        "# Usamos filter con lambda para quedarnos solo con las palabras de 5 caracteres o más\n",
        "palabras_filtradas = list(filter(lambda palabra: len(palabra) >= 5, palabras))\n",
        "\n",
        "# Mostramos el resultado\n",
        "print(f\"Palabras con 5 o más caracteres: {palabras_filtradas}\")\n",
        "\n",
        "'''\n",
        "# Solicitando una frase y separándola por espacios. Usando replace para cambiar\n",
        "# puntuaciones por espacios.\n",
        "frase = input(\"Escribe una frase: \")\n",
        "frase = frase.replace(',',' ').replace('.',' ').replace('!',' ').replace('?',' ').split()\n",
        "\n",
        "# Filtrando la frase en formato de lista, pasando a la lista tamaño\n",
        "# solo las palabras con 5 o más caracteres e imprimiéndola en pantalla\n",
        "tamano = list(filter(lambda x: len(x) >= 5, frase))\n",
        "print(tamano)\n",
        "\n",
        "'''\n"
      ],
      "metadata": {
        "id": "MaKbelj4iLdq"
      },
      "execution_count": null,
      "outputs": []
    }
  ]
}